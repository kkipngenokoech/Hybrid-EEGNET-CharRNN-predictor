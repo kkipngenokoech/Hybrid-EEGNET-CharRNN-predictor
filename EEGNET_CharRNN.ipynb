{
  "nbformat": 4,
  "nbformat_minor": 0,
  "metadata": {
    "colab": {
      "provenance": []
    },
    "kernelspec": {
      "name": "python3",
      "display_name": "Python 3"
    },
    "language_info": {
      "name": "python"
    }
  },
  "cells": [
    {
      "cell_type": "markdown",
      "source": [
        "# Manage Directories and Packages"
      ],
      "metadata": {
        "id": "AWrU5w8VfcEI"
      }
    },
    {
      "cell_type": "code",
      "source": [
        "import os\n",
        "import sys\n",
        "\n",
        "# Go to main working directory\n",
        "os.makedirs('/content/eegnet-charrnn', exist_ok=True)\n",
        "%cd /content/eegnet-charrnn\n",
        "\n",
        "# Directory containing subject files\n",
        "subject_rawdata_dir = 'data/raw' # All raw .mat files should be here. Make sure to upload them!\n",
        "subject_chars_dir = 'data/chars' # Where to store all character data\n",
        "subject_words_dir = \"data/words\" # Where to store all word data\n",
        "\n",
        "os.makedirs(subject_rawdata_dir, exist_ok=True)\n",
        "os.makedirs(subject_chars_dir, exist_ok=True)\n",
        "os.makedirs(subject_words_dir, exist_ok=True)"
      ],
      "metadata": {
        "colab": {
          "base_uri": "https://localhost:8080/"
        },
        "id": "Y2fMcDgxb5Dx",
        "outputId": "3556270a-f3e5-4096-fd43-3bde51f7046d"
      },
      "execution_count": null,
      "outputs": [
        {
          "output_type": "stream",
          "name": "stdout",
          "text": [
            "/content/eegnet-charrnn\n"
          ]
        }
      ]
    },
    {
      "cell_type": "code",
      "source": [
        "# Install necessary packages\n",
        "#!pip install datasets\n",
        "#!pip install tensorflow==2.8.0\n",
        "#!pip install mne>=0.17.1 PyRiemann>=0.2.5 scikit-learn>=0.20.1 matplotlib>=2.2.3\n",
        "\n",
        "#!git clone https://github.com/vlawhern/arl-eegmodels.git\n",
        "sys.path.append('/content/eegnet-charrnn/arl-eegmodels')"
      ],
      "metadata": {
        "id": "2r5acOIgcsL_"
      },
      "execution_count": null,
      "outputs": []
    },
    {
      "cell_type": "code",
      "source": [
        "# Import necessary libraries\n",
        "import numpy as np\n",
        "import string\n",
        "import re\n",
        "import json\n",
        "import random\n",
        "import gc\n",
        "import pandas as pd\n",
        "\n",
        "import torch\n",
        "import torch.nn as nn\n",
        "import torch.optim as optim\n",
        "import torch.nn.functional as F\n",
        "from torch.utils.data import Dataset, DataLoader\n",
        "import tensorflow as tf\n",
        "from tqdm import tqdm\n",
        "\n",
        "from datasets import load_dataset\n",
        "from scipy.io import loadmat\n",
        "from scipy.signal import cheby1, filtfilt, resample\n",
        "\n",
        "from EEGModels import EEGNet, ShallowConvNet, DeepConvNet\n",
        "from tensorflow.keras.utils import to_categorical\n",
        "from sklearn.model_selection import KFold\n",
        "from tensorflow.keras.optimizers import Adam\n",
        "from tensorflow.keras.regularizers import l2\n",
        "from tensorflow.keras.initializers import RandomNormal\n",
        "\n",
        "\n",
        "device = torch.device(\"cuda\" if torch.cuda.is_available() else \"cpu\")"
      ],
      "metadata": {
        "id": "RSs59CT-cjf9"
      },
      "execution_count": null,
      "outputs": []
    },
    {
      "cell_type": "markdown",
      "source": [
        "# Create Sequential Character Data\n",
        "\n",
        "This section will process the SSVEP EEG data from the Benchmark dataset (Tsinghua University) and then use it to create sequences of characters (aka words) for the training and evaluation of deep neural models intending to evaluate their performance on practical word-based data."
      ],
      "metadata": {
        "id": "-fjqrb2Gbt-6"
      }
    },
    {
      "cell_type": "code",
      "source": [
        "# Preprocessing Code from Ruiming\n",
        "def chebyshev_bandpass(lowcut, highcut, fs, order=4, rp=0.5):\n",
        "    \"\"\"\n",
        "    Design a Chebyshev Type I bandpass filter.\n",
        "\n",
        "    Parameters:\n",
        "    - lowcut: Low frequency cut-off for the bandpass filter.\n",
        "    - highcut: High frequency cut-off for the bandpass filter.\n",
        "    - fs: Sampling frequency of the EEG data.\n",
        "    - order: The order of the filter (default: 4).\n",
        "    - rp: Maximum ripple in the passband (default: 0.5 dB).\n",
        "\n",
        "    Returns:\n",
        "    - b, a: Numerator (b) and denominator (a) polynomials of the filter.\n",
        "    \"\"\"\n",
        "    nyquist = 0.5 * fs\n",
        "    low = lowcut / nyquist\n",
        "    high = highcut / nyquist\n",
        "    b, a = cheby1(order, rp, [low, high], btype='band')\n",
        "    return b, a\n",
        "\n",
        "def load_benchmark_data(file_path, n_channels=64, n_timepoints=1500, n_classes=40,\n",
        "                  lowcut=6.0, highcut=90.0, fs=1000, target_fs=250,\n",
        "                  window_length=250): # THIS IS CREATING 4s SEGMENTS FOR DATA\n",
        "    \"\"\"\n",
        "    Load EEG data from .mat files in a directory, apply Chebyshev bandpass filter,\n",
        "    downsample, segment with sliding window, and return as arrays.\n",
        "\n",
        "    Parameters:\n",
        "    - file_path: .mat file for specific subject\n",
        "    - n_channels: Number of EEG channels (default: 64).\n",
        "    - n_timepoints: Number of time points per trial (default: 1500).\n",
        "    - n_classes: Number of target classes\n",
        "    - lowcut: Low frequency cut-off for Chebyshev bandpass filter (default: 6 Hz).\n",
        "    - highcut: High frequency cut-off for Chebyshev bandpass filter (default: 90 Hz).\n",
        "    - fs: Original sampling frequency of the EEG data (default: 1000 Hz).\n",
        "    - target_fs: Target sampling frequency after downsampling (default: 250 Hz).\n",
        "    - window_length: Length of each segment window in samples (default: 250 samples for 1s at 250 Hz).\n",
        "\n",
        "    Returns:\n",
        "    - X: EEG data as a NumPy array with shape (number_of_samples, number_channels, num_timepoints).\n",
        "    - y: One-hot encoded labels as a NumPy array.\n",
        "    \"\"\"\n",
        "    X, y = [], []\n",
        "    b, a = chebyshev_bandpass(lowcut, highcut, fs, order=4)  # Define Chebyshev filter\n",
        "\n",
        "    # Load .mat file\n",
        "    mat_data = loadmat(file_path)\n",
        "\n",
        "    # Assuming data is stored in 'data' variable with shape [64, 1500, 40, 6]\n",
        "    eeg_data = mat_data['data']  # Shape: [64, 1500, 40, 6]\n",
        "\n",
        "    # Process each trial\n",
        "    for target_idx in range(eeg_data.shape[2]):\n",
        "        for block_idx in range(eeg_data.shape[3]):\n",
        "            trial_data = eeg_data[:, :, target_idx, block_idx]  # Shape: [64, 1500]\n",
        "\n",
        "            # Apply bandpass filter\n",
        "            trial_data_filtered = np.zeros_like(trial_data)\n",
        "            for ch in range(n_channels):\n",
        "                trial_data_filtered[ch, :] = filtfilt(b, a, trial_data[ch, :])\n",
        "\n",
        "            # Downsample to target sampling rate\n",
        "            trial_data_downsampled = resample(trial_data_filtered, int(trial_data_filtered.shape[1] * target_fs / fs), axis=1)\n",
        "\n",
        "            # Apply sliding window to generate segments\n",
        "            for start in range(0, trial_data_downsampled.shape[1] - window_length + 1, window_length):\n",
        "                segment = trial_data_downsampled[:, start:start + window_length]\n",
        "\n",
        "                # Normalize segment channel-wise\n",
        "                segment = (segment - segment.mean(axis=1, keepdims=True)) / segment.std(axis=1, keepdims=True)\n",
        "\n",
        "                # Append the segment and label\n",
        "                X.append(segment)\n",
        "                y.append(target_idx)  # Label as the target index\n",
        "\n",
        "    # Convert lists to NumPy arrays\n",
        "    X = np.array(X)  # Shape: [num_samples, 64 electrodes, 250 window_length]\n",
        "    y = np.array(y)  # Shape: [num_samples, 40 classes]\n",
        "\n",
        "    # Convert labels to one-hot encoding\n",
        "    y = to_categorical(y, num_classes=n_classes)\n",
        "    return X, y\n"
      ],
      "metadata": {
        "id": "cVRsMqrTeGNV"
      },
      "execution_count": null,
      "outputs": []
    },
    {
      "cell_type": "code",
      "source": [
        "# Test function\n",
        "X, y = load_benchmark_data(\"/content/eegnet-charrnn/data/raw/S31.mat\")\n",
        "print(X.shape)\n",
        "print(y.shape)"
      ],
      "metadata": {
        "colab": {
          "base_uri": "https://localhost:8080/"
        },
        "id": "cGA_QGEfeK03",
        "outputId": "9e9ed4a4-2db1-4e3d-9e5f-736270a55392"
      },
      "execution_count": null,
      "outputs": [
        {
          "output_type": "stream",
          "name": "stdout",
          "text": [
            "(240, 64, 250)\n",
            "(240, 40)\n"
          ]
        }
      ]
    },
    {
      "cell_type": "code",
      "source": [
        "def create_chars(subject_rawdata_dir, subject_chars_dir):\n",
        "    \"\"\"\n",
        "    Process each subject and save character data into a single file.\n",
        "\n",
        "    Parameters:\n",
        "    - subject_rawdata_dir: Directory containing raw subject files (.mat).\n",
        "    - subject_chars_dir: Directory to save character-specific data.\n",
        "\n",
        "    Output:\n",
        "    - Saves a NumPy array for each subject with shape [26, 6, 64, 250].\n",
        "    \"\"\"\n",
        "    all_subject_files = [f for f in os.listdir(subject_rawdata_dir) if f.endswith('.mat')]\n",
        "\n",
        "    # Process each subject and save character data into a single file\n",
        "    for subject_file in all_subject_files:\n",
        "        # Load and preprocess the EEG data for the current subject\n",
        "        subject_id = subject_file.split('.')[0]  # Get subject identifier (e.g., S1)\n",
        "        X, y = load_benchmark_data(os.path.join(subject_rawdata_dir, subject_file)) # Shape: [240 samples, 64 channels, 250 time points]\n",
        "\n",
        "        # Initialize an array to hold all character data\n",
        "        subject_data = np.zeros((26, 6, 64, 250))  # Shape: [26 characters, 6 blocks, 64 channels, 250 time points]\n",
        "\n",
        "        # Save the data for each character A-Z in a single array\n",
        "        for target_idx in range(26):  # Only A-Z targets\n",
        "            for block_idx in range(6):\n",
        "              sample_idx = 6*target_idx+block_idx\n",
        "              assert np.argmax(y[sample_idx]) == target_idx, (\n",
        "                    f\"Mismatch: y[{sample_idx}] (argmax={np.argmax(y[sample_idx])}) != target_idx ({target_idx})\"\n",
        "                )\n",
        "              subject_data[target_idx, block_idx, :, :] = X[sample_idx, :, :]\n",
        "\n",
        "        # Save the combined data to a .npy file\n",
        "        output_file = os.path.join(subject_chars_dir, f'{subject_id}_chars.npy')\n",
        "        np.save(output_file, subject_data)\n",
        "        print(f'Saved {output_file}')"
      ],
      "metadata": {
        "id": "N2f0Ij2fePUx"
      },
      "execution_count": null,
      "outputs": []
    },
    {
      "cell_type": "code",
      "source": [
        "# Call function to create character files\n",
        "create_chars(subject_rawdata_dir, subject_chars_dir)"
      ],
      "metadata": {
        "colab": {
          "base_uri": "https://localhost:8080/"
        },
        "id": "Be7jDW9HeSEl",
        "outputId": "77bb8763-9f48-44b4-c77e-ae0ac3477480"
      },
      "execution_count": null,
      "outputs": [
        {
          "output_type": "stream",
          "name": "stdout",
          "text": [
            "Saved data/chars/S29_chars.npy\n",
            "Saved data/chars/S3_chars.npy\n",
            "Saved data/chars/S7_chars.npy\n",
            "Saved data/chars/S35_chars.npy\n",
            "Saved data/chars/S12_chars.npy\n",
            "Saved data/chars/S9_chars.npy\n",
            "Saved data/chars/S14_chars.npy\n",
            "Saved data/chars/S15_chars.npy\n",
            "Saved data/chars/S1_chars.npy\n",
            "Saved data/chars/S26_chars.npy\n",
            "Saved data/chars/S32_chars.npy\n",
            "Saved data/chars/S24_chars.npy\n",
            "Saved data/chars/S11_chars.npy\n",
            "Saved data/chars/S27_chars.npy\n",
            "Saved data/chars/S19_chars.npy\n",
            "Saved data/chars/S18_chars.npy\n",
            "Saved data/chars/S16_chars.npy\n",
            "Saved data/chars/S10_chars.npy\n",
            "Saved data/chars/S20_chars.npy\n",
            "Saved data/chars/S4_chars.npy\n",
            "Saved data/chars/S33_chars.npy\n",
            "Saved data/chars/S13_chars.npy\n",
            "Saved data/chars/S21_chars.npy\n",
            "Saved data/chars/S2_chars.npy\n",
            "Saved data/chars/S23_chars.npy\n",
            "Saved data/chars/S8_chars.npy\n",
            "Saved data/chars/S5_chars.npy\n",
            "Saved data/chars/S28_chars.npy\n",
            "Saved data/chars/S25_chars.npy\n",
            "Saved data/chars/S34_chars.npy\n",
            "Saved data/chars/S6_chars.npy\n",
            "Saved data/chars/S30_chars.npy\n",
            "Saved data/chars/S31_chars.npy\n",
            "Saved data/chars/S17_chars.npy\n",
            "Saved data/chars/S22_chars.npy\n"
          ]
        }
      ]
    },
    {
      "cell_type": "code",
      "source": [
        "# Test function\n",
        "test_chars = np.load(\"data/chars/S29_chars.npy\")\n",
        "test_chars.shape"
      ],
      "metadata": {
        "colab": {
          "base_uri": "https://localhost:8080/"
        },
        "id": "FZ6T-FemedC4",
        "outputId": "958d44f2-6581-4878-83a8-93e54dfbbb67"
      },
      "execution_count": null,
      "outputs": [
        {
          "output_type": "execute_result",
          "data": {
            "text/plain": [
              "(26, 6, 64, 250)"
            ]
          },
          "metadata": {},
          "execution_count": 83
        }
      ]
    },
    {
      "cell_type": "code",
      "source": [
        "def create_words(subject_chars_dir, subject_words_dir, word_list, output_name):\n",
        "    \"\"\"\n",
        "    Create words by concatenating random blocks of EEG data for each character in the words for all subjects.\n",
        "\n",
        "    Parameters:\n",
        "    - subject_chars_dir: Directory containing character-specific .npy files.\n",
        "    - subject_words_dir: Directory to save the word-specific dictionary for each subject.\n",
        "    - word_list: List of words to create.\n",
        "\n",
        "    Output:\n",
        "    - Saves a dictionary containing each word as a key and its EEG representation as value for each subject.\n",
        "    \"\"\"\n",
        "    if not os.path.exists(subject_words_dir):\n",
        "        os.makedirs(subject_words_dir)\n",
        "\n",
        "    # Process each subject\n",
        "    all_subject_files = [f for f in os.listdir(subject_chars_dir) if f.endswith('_chars.npy')]\n",
        "\n",
        "    for subject_file in all_subject_files:\n",
        "        subject_id = subject_file.split('_')[0]  # Get subject identifier (e.g., S1)\n",
        "\n",
        "        # Load the character-specific data for the subject\n",
        "        subject_data = np.load(os.path.join(subject_chars_dir, subject_file))  # Shape: [26, 6, 64, 250]\n",
        "\n",
        "        # Initialize a dictionary to store the words and their corresponding EEG data\n",
        "        words_dict = {}\n",
        "\n",
        "        # Create words by selecting random blocks for each character\n",
        "        for word in word_list:\n",
        "            word_data = []\n",
        "            for char in word.upper():\n",
        "                if 'A' <= char <= 'Z':\n",
        "                    char_idx = ord(char) - ord('A')\n",
        "                    random_block = random.choice(subject_data[char_idx])  # Shape: [64, 250]\n",
        "                    #random_block = subject_data[char_idx,1,:,:]\n",
        "                    word_data.append(random_block)\n",
        "                else:\n",
        "                    raise ValueError(f\"Invalid character '{char}' in word '{word}'. Only A-Z are allowed.\")\n",
        "\n",
        "            # Stack the blocks to form the word\n",
        "            word_array = np.stack(word_data, axis=0)  # Shape: [word_length, 64, 250]\n",
        "            words_dict[word] = word_array\n",
        "\n",
        "        # Save the dictionary to a .npy file\n",
        "        output_file = os.path.join(subject_words_dir, f'{subject_id}_{output_name}.npy')\n",
        "        np.save(output_file, words_dict)\n",
        "        print(f'Saved word dictionary for subject {subject_id} to {output_file}')"
      ],
      "metadata": {
        "id": "D6ZK6_Hieklr"
      },
      "execution_count": null,
      "outputs": []
    },
    {
      "cell_type": "code",
      "source": [
        "def is_valid_word(word):\n",
        "    # Exclude single letters except \"i\" and \"a\"\n",
        "    if len(word) == 1 and word not in {'i', 'a'}:\n",
        "        return False\n",
        "\n",
        "    # Exclude prefixes and suffixes\n",
        "    prefixes_suffixes = {\n",
        "        'de', 're', 'un', 'pre', 'inter', 'anti', 'ex',\n",
        "        'in', 'dis', 'non', 'mis', 'co',\n",
        "        'able', 'ible', 'al', 'ance', 'ence', 'dom', 'er', 'or', 'ist', 'ism',\n",
        "        'ity', 'ty', 'ment', 'ness', 'en', 'ful', 'ous', 'ious', 'eous', 'ish',\n",
        "        'ive', 'ative', 'itive', 'ly', 'ed', 'ing', 'tion', 'ation', 'sion'\n",
        "    }\n",
        "\n",
        "    # Check if the word matches any prefix or suffix\n",
        "    if word.lower() in prefixes_suffixes:\n",
        "        return False\n",
        "\n",
        "    # Allow the word if it passes all checks\n",
        "    return True"
      ],
      "metadata": {
        "id": "KJUJdMr_IjGu"
      },
      "execution_count": null,
      "outputs": []
    },
    {
      "cell_type": "code",
      "source": [
        "# Load word frequency list from Google Web Trillion Text Corpus\n",
        "word_freq_list = pd.read_csv(\"/content/eegnet-charrnn/unigram_freq.csv\")\n",
        "\n",
        "# Clean list of non-words\n",
        "word_freq_list = word_freq_list.dropna(subset=['word'])\n",
        "word_freq_list = word_freq_list[word_freq_list['word'].apply(is_valid_word)]\n",
        "\n",
        "# List 1: Top 100 most common words (no conditions)\n",
        "top100_commonwords = word_freq_list.head(100)['word'].tolist()\n",
        "\n",
        "# List 2: Top 100 most common words with at least 7 letters\n",
        "top100_longwords = word_freq_list[word_freq_list['word'].str.len() >= 7].head(100)['word'].tolist()\n",
        "\n",
        "# List 3: Top 1000 most common words (no conditions)\n",
        "lotsofwords = word_freq_list.head(1000)['word'].tolist()\n",
        "\n",
        "# Print the lists\n",
        "print(\"Top 100 Common Words:\")\n",
        "print(top100_commonwords)\n",
        "print(\"\\nTop 100 Long Words (>= 7 letters):\")\n",
        "print(top100_longwords)\n",
        "print(\"\\nTop 1000 Common Words:\")\n",
        "print(lotsofwords)\n"
      ],
      "metadata": {
        "colab": {
          "base_uri": "https://localhost:8080/"
        },
        "id": "-BcggFxyF2kp",
        "outputId": "daf9a406-8875-42cf-efb9-0d187d670ed3"
      },
      "execution_count": null,
      "outputs": [
        {
          "output_type": "stream",
          "name": "stdout",
          "text": [
            "Top 100 Common Words:\n",
            "['the', 'of', 'and', 'to', 'a', 'for', 'is', 'on', 'that', 'by', 'this', 'with', 'i', 'you', 'it', 'not', 'be', 'are', 'from', 'at', 'as', 'your', 'all', 'have', 'new', 'more', 'an', 'was', 'we', 'will', 'home', 'can', 'us', 'about', 'if', 'page', 'my', 'has', 'search', 'free', 'but', 'our', 'one', 'other', 'do', 'no', 'information', 'time', 'they', 'site', 'he', 'up', 'may', 'what', 'which', 'their', 'news', 'out', 'use', 'any', 'there', 'see', 'only', 'so', 'his', 'when', 'contact', 'here', 'business', 'who', 'web', 'also', 'now', 'help', 'get', 'pm', 'view', 'online', 'first', 'am', 'been', 'would', 'how', 'were', 'me', 'services', 'some', 'these', 'click', 'its', 'like', 'service', 'than', 'find', 'price', 'date', 'back', 'top', 'people', 'had']\n",
            "\n",
            "Top 100 Long Words (>= 7 letters):\n",
            "['information', 'contact', 'business', 'services', 'service', 'products', 'product', 'available', 'copyright', 'support', 'message', 'software', 'through', 'privacy', 'company', 'general', 'research', 'university', 'january', 'reviews', 'program', 'management', 'international', 'comments', 'development', 'details', 'because', 'results', 'education', 'national', 'internet', 'address', 'community', 'shipping', 'reserved', 'subject', 'between', 'special', 'website', 'technology', 'project', 'version', 'section', 'related', 'security', 'american', 'members', 'network', 'computer', 'systems', 'following', 'download', 'without', 'resources', 'current', 'control', 'history', 'pictures', 'personal', 'including', 'directory', 'location', 'government', 'children', 'students', 'shopping', 'account', 'digital', 'profile', 'previous', 'department', 'description', 'insurance', 'another', 'property', 'quality', 'listing', 'content', 'country', 'private', 'customer', 'december', 'compare', 'include', 'college', 'article', 'provide', 'different', 'process', 'training', 'science', 'categories', 'advanced', 'english', 'conditions', 'windows', 'category', 'gallery', 'register', 'however']\n",
            "\n",
            "Top 1000 Common Words:\n",
            "['the', 'of', 'and', 'to', 'a', 'for', 'is', 'on', 'that', 'by', 'this', 'with', 'i', 'you', 'it', 'not', 'be', 'are', 'from', 'at', 'as', 'your', 'all', 'have', 'new', 'more', 'an', 'was', 'we', 'will', 'home', 'can', 'us', 'about', 'if', 'page', 'my', 'has', 'search', 'free', 'but', 'our', 'one', 'other', 'do', 'no', 'information', 'time', 'they', 'site', 'he', 'up', 'may', 'what', 'which', 'their', 'news', 'out', 'use', 'any', 'there', 'see', 'only', 'so', 'his', 'when', 'contact', 'here', 'business', 'who', 'web', 'also', 'now', 'help', 'get', 'pm', 'view', 'online', 'first', 'am', 'been', 'would', 'how', 'were', 'me', 'services', 'some', 'these', 'click', 'its', 'like', 'service', 'than', 'find', 'price', 'date', 'back', 'top', 'people', 'had', 'list', 'name', 'just', 'over', 'state', 'year', 'day', 'into', 'email', 'two', 'health', 'world', 'next', 'used', 'go', 'work', 'last', 'most', 'products', 'music', 'buy', 'data', 'make', 'them', 'should', 'product', 'system', 'post', 'her', 'city', 'add', 'policy', 'number', 'such', 'please', 'available', 'copyright', 'support', 'message', 'after', 'best', 'software', 'then', 'jan', 'good', 'video', 'well', 'where', 'info', 'rights', 'public', 'books', 'high', 'school', 'through', 'each', 'links', 'she', 'review', 'years', 'order', 'very', 'privacy', 'book', 'items', 'company', 'read', 'group', 'sex', 'need', 'many', 'user', 'said', 'does', 'set', 'under', 'general', 'research', 'university', 'january', 'mail', 'full', 'map', 'reviews', 'program', 'life', 'know', 'games', 'way', 'days', 'management', 'part', 'could', 'great', 'united', 'hotel', 'real', 'item', 'international', 'center', 'ebay', 'must', 'store', 'travel', 'comments', 'made', 'development', 'report', 'off', 'member', 'details', 'line', 'terms', 'before', 'hotels', 'did', 'send', 'right', 'type', 'because', 'local', 'those', 'using', 'results', 'office', 'education', 'national', 'car', 'design', 'take', 'posted', 'internet', 'address', 'community', 'within', 'states', 'area', 'want', 'phone', 'dvd', 'shipping', 'reserved', 'subject', 'between', 'forum', 'family', 'long', 'based', 'code', 'show', 'even', 'black', 'check', 'special', 'prices', 'website', 'index', 'being', 'women', 'much', 'sign', 'file', 'link', 'open', 'today', 'technology', 'south', 'case', 'project', 'same', 'pages', 'uk', 'version', 'section', 'own', 'found', 'sports', 'house', 'related', 'security', 'both', 'county', 'american', 'photo', 'game', 'members', 'power', 'while', 'care', 'network', 'down', 'computer', 'systems', 'three', 'total', 'place', 'end', 'following', 'download', 'him', 'without', 'per', 'access', 'think', 'north', 'resources', 'current', 'posts', 'big', 'media', 'law', 'control', 'water', 'history', 'pictures', 'size', 'art', 'personal', 'since', 'including', 'guide', 'shop', 'directory', 'board', 'location', 'change', 'white', 'text', 'small', 'rating', 'rate', 'government', 'children', 'during', 'usa', 'return', 'students', 'shopping', 'account', 'times', 'sites', 'level', 'digital', 'profile', 'previous', 'form', 'events', 'love', 'old', 'john', 'main', 'call', 'hours', 'image', 'department', 'title', 'description', 'insurance', 'another', 'why', 'shall', 'property', 'class', 'cd', 'still', 'money', 'quality', 'every', 'listing', 'content', 'country', 'private', 'little', 'visit', 'save', 'tools', 'low', 'reply', 'customer', 'december', 'compare', 'movies', 'include', 'college', 'value', 'article', 'york', 'man', 'card', 'jobs', 'provide', 'food', 'source', 'author', 'different', 'press', 'learn', 'sale', 'around', 'print', 'course', 'job', 'canada', 'process', 'teen', 'room', 'stock', 'training', 'too', 'credit', 'point', 'join', 'science', 'men', 'categories', 'advanced', 'west', 'sales', 'look', 'english', 'left', 'team', 'estate', 'box', 'conditions', 'select', 'windows', 'photos', 'gay', 'thread', 'week', 'category', 'note', 'live', 'large', 'gallery', 'table', 'register', 'however', 'june', 'october', 'november', 'market', 'library', 'really', 'action', 'start', 'series', 'model', 'features', 'air', 'industry', 'plan', 'human', 'provided', 'tv', 'yes', 'required', 'second', 'hot', 'accessories', 'cost', 'movie', 'forums', 'march', 'la', 'september', 'better', 'say', 'questions', 'july', 'yahoo', 'going', 'medical', 'test', 'friend', 'come', 'dec', 'server', 'pc', 'study', 'application', 'cart', 'staff', 'articles', 'san', 'feedback', 'again', 'play', 'looking', 'issues', 'april', 'never', 'users', 'complete', 'street', 'topic', 'comment', 'financial', 'things', 'working', 'against', 'standard', 'tax', 'person', 'below', 'mobile', 'less', 'got', 'blog', 'party', 'payment', 'equipment', 'login', 'student', 'let', 'programs', 'offers', 'legal', 'above', 'recent', 'park', 'stores', 'side', 'act', 'problem', 'red', 'give', 'memory', 'performance', 'social', 'august', 'quote', 'language', 'story', 'sell', 'options', 'experience', 'rates', 'create', 'key', 'body', 'young', 'america', 'important', 'field', 'few', 'east', 'paper', 'single', 'ii', 'age', 'activities', 'club', 'example', 'girls', 'additional', 'password', 'latest', 'something', 'road', 'gift', 'question', 'changes', 'night', 'ca', 'hard', 'texas', 'oct', 'pay', 'four', 'poker', 'status', 'browse', 'issue', 'range', 'building', 'seller', 'court', 'february', 'always', 'result', 'audio', 'light', 'write', 'war', 'nov', 'offer', 'blue', 'groups', 'easy', 'given', 'files', 'event', 'release', 'analysis', 'request', 'fax', 'china', 'making', 'picture', 'needs', 'possible', 'might', 'professional', 'yet', 'month', 'major', 'star', 'areas', 'future', 'space', 'committee', 'hand', 'sun', 'cards', 'problems', 'london', 'washington', 'meeting', 'rss', 'become', 'interest', 'id', 'child', 'keep', 'enter', 'california', 'porn', 'share', 'similar', 'garden', 'schools', 'million', 'added', 'reference', 'companies', 'listed', 'baby', 'learning', 'energy', 'run', 'delivery', 'net', 'popular', 'term', 'film', 'stories', 'put', 'computers', 'journal', 'reports', 'try', 'welcome', 'central', 'images', 'president', 'notice', 'god', 'original', 'head', 'radio', 'until', 'cell', 'color', 'self', 'council', 'away', 'includes', 'track', 'australia', 'discussion', 'archive', 'once', 'others', 'entertainment', 'agreement', 'format', 'least', 'society', 'months', 'log', 'safety', 'friends', 'sure', 'faq', 'trade', 'edition', 'cars', 'messages', 'marketing', 'tell', 'further', 'updated', 'association', 'having', 'provides', 'david', 'fun', 'already', 'green', 'studies', 'close', 'common', 'drive', 'specific', 'several', 'gold', 'feb', 'living', 'sep', 'collection', 'called', 'short', 'arts', 'lot', 'ask', 'display', 'limited', 'powered', 'solutions', 'means', 'director', 'daily', 'beach', 'past', 'natural', 'whether', 'due', 'et', 'electronics', 'five', 'upon', 'period', 'planning', 'database', 'says', 'official', 'weather', 'mar', 'land', 'average', 'done', 'technical', 'window', 'france', 'pro', 'region', 'island', 'record', 'direct', 'microsoft', 'conference', 'environment', 'records', 'st', 'district', 'calendar', 'costs', 'style', 'url', 'front', 'statement', 'update', 'parts', 'aug', 'ever', 'downloads', 'early', 'miles', 'sound', 'resource', 'present', 'applications', 'either', 'ago', 'document', 'word', 'works', 'material', 'bill', 'apr', 'written', 'talk', 'federal', 'hosting', 'rules', 'final', 'adult', 'tickets', 'thing', 'centre', 'requirements', 'via', 'cheap', 'nude', 'kids', 'finance', 'true', 'minutes', 'else', 'mark', 'third', 'rock', 'gifts', 'europe', 'reading', 'topics', 'bad', 'individual', 'tips', 'plus', 'auto', 'cover', 'usually', 'edit', 'together', 'videos', 'percent', 'fast', 'function', 'fact', 'unit', 'getting', 'global', 'tech', 'meet', 'far', 'economic', 'player', 'projects', 'lyrics', 'often', 'subscribe', 'submit', 'germany', 'amount', 'watch', 'included', 'feel', 'though', 'bank', 'risk', 'thanks', 'everything', 'deals', 'various', 'words', 'linux', 'jul', 'production', 'commercial', 'james', 'weight', 'town', 'heart', 'advertising', 'received', 'choose', 'treatment', 'newsletter', 'archives', 'points', 'knowledge', 'magazine', 'error', 'camera', 'jun', 'girl', 'currently', 'construction', 'toys', 'registered', 'clear', 'golf', 'receive', 'domain', 'methods', 'chapter', 'makes', 'protection', 'policies', 'loan', 'wide', 'beauty', 'manager', 'india', 'position', 'taken', 'sort', 'listings', 'models', 'michael', 'known', 'half', 'cases', 'step', 'engineering', 'florida', 'simple', 'quick', 'none', 'wireless', 'license', 'paul', 'friday', 'lake', 'whole', 'annual', 'published', 'later', 'basic', 'sony', 'shows', 'corporate', 'google', 'church', 'method', 'purchase', 'customers', 'active', 'response', 'practice', 'hardware', 'figure', 'materials', 'fire', 'holiday', 'chat', 'enough', 'designed', 'along', 'among', 'death', 'writing', 'speed', 'html', 'countries', 'loss', 'face', 'brand', 'discount', 'higher', 'effects', 'created', 'remember', 'standards', 'oil', 'bit', 'yellow', 'political', 'increase', 'advertise', 'kingdom', 'base', 'near', 'environmental', 'thought', 'stuff', 'french', 'storage', 'oh', 'japan', 'doing', 'loans', 'shoes', 'entry', 'stay', 'nature', 'orders', 'availability', 'africa', 'summary', 'turn', 'mean', 'growth', 'notes', 'agency', 'king', 'monday', 'european', 'activity', 'copy', 'although', 'drug', 'pics', 'western', 'income', 'force', 'cash', 'employment', 'overall', 'bay', 'river', 'commission', 'ad', 'package', 'contents', 'seen', 'players']\n"
          ]
        }
      ]
    },
    {
      "cell_type": "code",
      "source": [
        "# Create corresponding files\n",
        "create_words(subject_chars_dir=subject_chars_dir, subject_words_dir=subject_words_dir, word_list=top100_commonwords, output_name=\"commonwords\")"
      ],
      "metadata": {
        "colab": {
          "base_uri": "https://localhost:8080/"
        },
        "id": "Scun6XluetED",
        "outputId": "3c2b3819-2c0f-432e-c1be-556c2b13e2e3"
      },
      "execution_count": null,
      "outputs": [
        {
          "output_type": "stream",
          "name": "stdout",
          "text": [
            "Saved word dictionary for subject S16 to data/words/S16_commonwords.npy\n",
            "Saved word dictionary for subject S26 to data/words/S26_commonwords.npy\n",
            "Saved word dictionary for subject S4 to data/words/S4_commonwords.npy\n",
            "Saved word dictionary for subject S3 to data/words/S3_commonwords.npy\n",
            "Saved word dictionary for subject S28 to data/words/S28_commonwords.npy\n",
            "Saved word dictionary for subject S2 to data/words/S2_commonwords.npy\n",
            "Saved word dictionary for subject S19 to data/words/S19_commonwords.npy\n",
            "Saved word dictionary for subject S8 to data/words/S8_commonwords.npy\n",
            "Saved word dictionary for subject S23 to data/words/S23_commonwords.npy\n",
            "Saved word dictionary for subject S17 to data/words/S17_commonwords.npy\n",
            "Saved word dictionary for subject S7 to data/words/S7_commonwords.npy\n",
            "Saved word dictionary for subject S12 to data/words/S12_commonwords.npy\n",
            "Saved word dictionary for subject S14 to data/words/S14_commonwords.npy\n",
            "Saved word dictionary for subject S33 to data/words/S33_commonwords.npy\n",
            "Saved word dictionary for subject S10 to data/words/S10_commonwords.npy\n",
            "Saved word dictionary for subject S34 to data/words/S34_commonwords.npy\n",
            "Saved word dictionary for subject S22 to data/words/S22_commonwords.npy\n",
            "Saved word dictionary for subject S24 to data/words/S24_commonwords.npy\n",
            "Saved word dictionary for subject S20 to data/words/S20_commonwords.npy\n",
            "Saved word dictionary for subject S27 to data/words/S27_commonwords.npy\n",
            "Saved word dictionary for subject S30 to data/words/S30_commonwords.npy\n",
            "Saved word dictionary for subject S35 to data/words/S35_commonwords.npy\n",
            "Saved word dictionary for subject S29 to data/words/S29_commonwords.npy\n",
            "Saved word dictionary for subject S31 to data/words/S31_commonwords.npy\n",
            "Saved word dictionary for subject S13 to data/words/S13_commonwords.npy\n",
            "Saved word dictionary for subject S9 to data/words/S9_commonwords.npy\n",
            "Saved word dictionary for subject S15 to data/words/S15_commonwords.npy\n",
            "Saved word dictionary for subject S18 to data/words/S18_commonwords.npy\n",
            "Saved word dictionary for subject S25 to data/words/S25_commonwords.npy\n",
            "Saved word dictionary for subject S32 to data/words/S32_commonwords.npy\n",
            "Saved word dictionary for subject S21 to data/words/S21_commonwords.npy\n",
            "Saved word dictionary for subject S11 to data/words/S11_commonwords.npy\n",
            "Saved word dictionary for subject S6 to data/words/S6_commonwords.npy\n",
            "Saved word dictionary for subject S5 to data/words/S5_commonwords.npy\n",
            "Saved word dictionary for subject S1 to data/words/S1_commonwords.npy\n"
          ]
        }
      ]
    },
    {
      "cell_type": "code",
      "source": [
        "# Create corresponding files\n",
        "create_words(subject_chars_dir=subject_chars_dir, subject_words_dir=subject_words_dir, word_list=top100_longwords, output_name=\"longwords\")"
      ],
      "metadata": {
        "colab": {
          "base_uri": "https://localhost:8080/"
        },
        "id": "XnbPiUwXe4n5",
        "outputId": "2285c5e7-1057-44c6-fa12-315d7d4d1546"
      },
      "execution_count": null,
      "outputs": [
        {
          "output_type": "stream",
          "name": "stdout",
          "text": [
            "Saved word dictionary for subject S16 to data/words/S16_longwords.npy\n",
            "Saved word dictionary for subject S26 to data/words/S26_longwords.npy\n",
            "Saved word dictionary for subject S4 to data/words/S4_longwords.npy\n",
            "Saved word dictionary for subject S3 to data/words/S3_longwords.npy\n",
            "Saved word dictionary for subject S28 to data/words/S28_longwords.npy\n",
            "Saved word dictionary for subject S2 to data/words/S2_longwords.npy\n",
            "Saved word dictionary for subject S19 to data/words/S19_longwords.npy\n",
            "Saved word dictionary for subject S8 to data/words/S8_longwords.npy\n",
            "Saved word dictionary for subject S23 to data/words/S23_longwords.npy\n",
            "Saved word dictionary for subject S17 to data/words/S17_longwords.npy\n",
            "Saved word dictionary for subject S7 to data/words/S7_longwords.npy\n",
            "Saved word dictionary for subject S12 to data/words/S12_longwords.npy\n",
            "Saved word dictionary for subject S14 to data/words/S14_longwords.npy\n",
            "Saved word dictionary for subject S33 to data/words/S33_longwords.npy\n",
            "Saved word dictionary for subject S10 to data/words/S10_longwords.npy\n",
            "Saved word dictionary for subject S34 to data/words/S34_longwords.npy\n",
            "Saved word dictionary for subject S22 to data/words/S22_longwords.npy\n",
            "Saved word dictionary for subject S24 to data/words/S24_longwords.npy\n",
            "Saved word dictionary for subject S20 to data/words/S20_longwords.npy\n",
            "Saved word dictionary for subject S27 to data/words/S27_longwords.npy\n",
            "Saved word dictionary for subject S30 to data/words/S30_longwords.npy\n",
            "Saved word dictionary for subject S35 to data/words/S35_longwords.npy\n",
            "Saved word dictionary for subject S29 to data/words/S29_longwords.npy\n",
            "Saved word dictionary for subject S31 to data/words/S31_longwords.npy\n",
            "Saved word dictionary for subject S13 to data/words/S13_longwords.npy\n",
            "Saved word dictionary for subject S9 to data/words/S9_longwords.npy\n",
            "Saved word dictionary for subject S15 to data/words/S15_longwords.npy\n",
            "Saved word dictionary for subject S18 to data/words/S18_longwords.npy\n",
            "Saved word dictionary for subject S25 to data/words/S25_longwords.npy\n",
            "Saved word dictionary for subject S32 to data/words/S32_longwords.npy\n",
            "Saved word dictionary for subject S21 to data/words/S21_longwords.npy\n",
            "Saved word dictionary for subject S11 to data/words/S11_longwords.npy\n",
            "Saved word dictionary for subject S6 to data/words/S6_longwords.npy\n",
            "Saved word dictionary for subject S5 to data/words/S5_longwords.npy\n",
            "Saved word dictionary for subject S1 to data/words/S1_longwords.npy\n"
          ]
        }
      ]
    },
    {
      "cell_type": "code",
      "source": [
        "# Create corresponding files\n",
        "create_words(subject_chars_dir=subject_chars_dir, subject_words_dir=subject_words_dir, word_list=lotsofwords, output_name=\"lotsofwords\")"
      ],
      "metadata": {
        "colab": {
          "base_uri": "https://localhost:8080/"
        },
        "id": "aIEn35pEe_Bs",
        "outputId": "c573e988-b374-4c1a-ddca-5356f30058c5"
      },
      "execution_count": null,
      "outputs": [
        {
          "output_type": "stream",
          "name": "stdout",
          "text": [
            "Saved word dictionary for subject S16 to data/words/S16_lotsofwords.npy\n",
            "Saved word dictionary for subject S26 to data/words/S26_lotsofwords.npy\n",
            "Saved word dictionary for subject S4 to data/words/S4_lotsofwords.npy\n",
            "Saved word dictionary for subject S3 to data/words/S3_lotsofwords.npy\n",
            "Saved word dictionary for subject S28 to data/words/S28_lotsofwords.npy\n",
            "Saved word dictionary for subject S2 to data/words/S2_lotsofwords.npy\n",
            "Saved word dictionary for subject S19 to data/words/S19_lotsofwords.npy\n",
            "Saved word dictionary for subject S8 to data/words/S8_lotsofwords.npy\n",
            "Saved word dictionary for subject S23 to data/words/S23_lotsofwords.npy\n",
            "Saved word dictionary for subject S17 to data/words/S17_lotsofwords.npy\n",
            "Saved word dictionary for subject S7 to data/words/S7_lotsofwords.npy\n",
            "Saved word dictionary for subject S12 to data/words/S12_lotsofwords.npy\n",
            "Saved word dictionary for subject S14 to data/words/S14_lotsofwords.npy\n",
            "Saved word dictionary for subject S33 to data/words/S33_lotsofwords.npy\n",
            "Saved word dictionary for subject S10 to data/words/S10_lotsofwords.npy\n",
            "Saved word dictionary for subject S34 to data/words/S34_lotsofwords.npy\n",
            "Saved word dictionary for subject S22 to data/words/S22_lotsofwords.npy\n",
            "Saved word dictionary for subject S24 to data/words/S24_lotsofwords.npy\n",
            "Saved word dictionary for subject S20 to data/words/S20_lotsofwords.npy\n",
            "Saved word dictionary for subject S27 to data/words/S27_lotsofwords.npy\n",
            "Saved word dictionary for subject S30 to data/words/S30_lotsofwords.npy\n",
            "Saved word dictionary for subject S35 to data/words/S35_lotsofwords.npy\n",
            "Saved word dictionary for subject S29 to data/words/S29_lotsofwords.npy\n",
            "Saved word dictionary for subject S31 to data/words/S31_lotsofwords.npy\n",
            "Saved word dictionary for subject S13 to data/words/S13_lotsofwords.npy\n",
            "Saved word dictionary for subject S9 to data/words/S9_lotsofwords.npy\n",
            "Saved word dictionary for subject S15 to data/words/S15_lotsofwords.npy\n",
            "Saved word dictionary for subject S18 to data/words/S18_lotsofwords.npy\n",
            "Saved word dictionary for subject S25 to data/words/S25_lotsofwords.npy\n",
            "Saved word dictionary for subject S32 to data/words/S32_lotsofwords.npy\n",
            "Saved word dictionary for subject S21 to data/words/S21_lotsofwords.npy\n",
            "Saved word dictionary for subject S11 to data/words/S11_lotsofwords.npy\n",
            "Saved word dictionary for subject S6 to data/words/S6_lotsofwords.npy\n",
            "Saved word dictionary for subject S5 to data/words/S5_lotsofwords.npy\n",
            "Saved word dictionary for subject S1 to data/words/S1_lotsofwords.npy\n"
          ]
        }
      ]
    },
    {
      "cell_type": "code",
      "source": [
        "# This is a test word that contains every letter in the alphabet 6 times\n",
        "test_word = [''.join([letter * 6 for letter in string.ascii_uppercase])]\n",
        "test_word"
      ],
      "metadata": {
        "colab": {
          "base_uri": "https://localhost:8080/"
        },
        "id": "DqxC0QbSf4XG",
        "outputId": "9e3d7370-2ae7-46b8-e969-52fd40ee0eb7"
      },
      "execution_count": null,
      "outputs": [
        {
          "output_type": "execute_result",
          "data": {
            "text/plain": [
              "['AAAAAABBBBBBCCCCCCDDDDDDEEEEEEFFFFFFGGGGGGHHHHHHIIIIIIJJJJJJKKKKKKLLLLLLMMMMMMNNNNNNOOOOOOPPPPPPQQQQQQRRRRRRSSSSSSTTTTTTUUUUUUVVVVVVWWWWWWXXXXXXYYYYYYZZZZZZ']"
            ]
          },
          "metadata": {},
          "execution_count": 91
        }
      ]
    },
    {
      "cell_type": "markdown",
      "source": [
        "# Char-RNN Model"
      ],
      "metadata": {
        "id": "5qW-cywkF5kJ"
      }
    },
    {
      "cell_type": "markdown",
      "source": [
        "## Use Wiki Dataset"
      ],
      "metadata": {
        "id": "-X_f-fIy6IUD"
      }
    },
    {
      "cell_type": "code",
      "source": [
        "# Load the WikiText-2 dataset\n",
        "dataset = load_dataset(\"wikitext\", \"wikitext-2-raw-v1\")\n",
        "\n",
        "# Access the training data\n",
        "train_text = dataset['train']['text']\n",
        "\n",
        "# Combine the text into a single string\n",
        "raw_text = ' '.join(train_text)\n",
        "\n",
        "# Preprocess the text (remove non-alphaetic characters and convert everything to uppercase)\n",
        "processed_text = re.sub(r'[^a-zA-Z ]+', '', raw_text.upper())\n",
        "\n",
        "# Remove extra spaces\n",
        "processed_text = re.sub(r'\\s+', ' ', processed_text).strip()"
      ],
      "metadata": {
        "colab": {
          "base_uri": "https://localhost:8080/"
        },
        "id": "ULBsUtru6H36",
        "outputId": "729e1247-e973-4b4e-e477-8e149a8b01c3"
      },
      "execution_count": null,
      "outputs": [
        {
          "output_type": "stream",
          "name": "stderr",
          "text": [
            "/usr/local/lib/python3.10/dist-packages/huggingface_hub/utils/_token.py:89: UserWarning: \n",
            "The secret `HF_TOKEN` does not exist in your Colab secrets.\n",
            "To authenticate with the Hugging Face Hub, create a token in your settings tab (https://huggingface.co/settings/tokens), set it as secret in your Google Colab and restart your session.\n",
            "You will be able to reuse this secret in all of your notebooks.\n",
            "Please note that authentication is recommended but still optional to access public models or datasets.\n",
            "  warnings.warn(\n"
          ]
        }
      ]
    },
    {
      "cell_type": "code",
      "source": [
        "# Display the length and a sample of the processed text\n",
        "print(f\"Processed text length: {len(processed_text)} characters\")\n",
        "print(f\"Sample text: {processed_text[500:1000]}\")"
      ],
      "metadata": {
        "id": "p36v_obfiSr7"
      },
      "execution_count": null,
      "outputs": []
    },
    {
      "cell_type": "code",
      "source": [
        "print(f\"Sample text: {processed_text[2000:2500]}\")"
      ],
      "metadata": {
        "colab": {
          "base_uri": "https://localhost:8080/"
        },
        "id": "eqljbEOSiBe-",
        "outputId": "d13aa20d-eed9-49d6-beed-5621b4df198a"
      },
      "execution_count": null,
      "outputs": [
        {
          "output_type": "stream",
          "name": "stdout",
          "text": [
            "Sample text: EAKING PARTIALLY THROUGH VOICED SPEECH BUBBLES AND PARTIALLY THROUGH UNVOICED TEXT THE PLAYER PROGRESSES THROUGH A SERIES OF LINEAR MISSIONS GRADUALLY UNLOCKED AS MAPS THAT CAN BE FREELY SCANNED THROUGH AND REPLAYED AS THEY ARE UNLOCKED THE ROUTE TO EACH STORY LOCATION ON THE MAP VARIES DEPENDING ON AN INDIVIDUAL PLAYER S APPROACH WHEN ONE OPTION IS SELECTED THE OTHER IS SEALED OFF TO THE PLAYER OUTSIDE MISSIONS THE PLAYER CHARACTERS REST IN A CAMP WHERE UNITS CAN BE CUSTOMIZED AND CHARACTER GRO\n"
          ]
        }
      ]
    },
    {
      "cell_type": "code",
      "source": [
        "class CharDataset(Dataset):\n",
        "    def __init__(self, text, seq_length):\n",
        "        self.text = text\n",
        "        self.seq_length = seq_length\n",
        "        # Sort characters such that 'A-Z' come first, followed by space\n",
        "        sorted_chars = sorted(set(text) - {' '}) + [' ']\n",
        "        self.char2idx = {ch: i for i, ch in enumerate(sorted_chars)}\n",
        "        self.idx2char = {i: ch for ch, i in self.char2idx.items()}\n",
        "        self.vocab_size = len(self.char2idx)\n",
        "\n",
        "    def __len__(self):\n",
        "        return len(self.text) - self.seq_length\n",
        "\n",
        "    def __getitem__(self, idx):\n",
        "        chunk = self.text[idx : idx + self.seq_length + 1]\n",
        "        input_text = chunk[:-1]\n",
        "        target_text = chunk[1:]\n",
        "        input_tensor = torch.tensor([self.char2idx[ch] for ch in input_text], dtype=torch.long)\n",
        "        target_tensor = torch.tensor([self.char2idx[ch] for ch in target_text], dtype=torch.long)\n",
        "        return input_tensor, target_tensor"
      ],
      "metadata": {
        "id": "UelocgQ76Nuq"
      },
      "execution_count": null,
      "outputs": []
    },
    {
      "cell_type": "code",
      "source": [
        "# Initialize the dataset and dataloader\n",
        "seq_length = 20\n",
        "dataset = CharDataset(processed_text, seq_length)\n",
        "dataloader = DataLoader(dataset, batch_size=128, shuffle=True)\n",
        "\n",
        "print(f\"Vocabulary size: {dataset.vocab_size}\")\n",
        "print(f\"Mapping: {list(dataset.char2idx.items())[:]}\")"
      ],
      "metadata": {
        "colab": {
          "base_uri": "https://localhost:8080/"
        },
        "id": "33beTYIB6PA9",
        "outputId": "8efa6ac3-89ee-45ce-8321-d80bf93ff204"
      },
      "execution_count": null,
      "outputs": [
        {
          "output_type": "stream",
          "name": "stdout",
          "text": [
            "Vocabulary size: 27\n",
            "Mapping: [('A', 0), ('B', 1), ('C', 2), ('D', 3), ('E', 4), ('F', 5), ('G', 6), ('H', 7), ('I', 8), ('J', 9), ('K', 10), ('L', 11), ('M', 12), ('N', 13), ('O', 14), ('P', 15), ('Q', 16), ('R', 17), ('S', 18), ('T', 19), ('U', 20), ('V', 21), ('W', 22), ('X', 23), ('Y', 24), ('Z', 25), (' ', 26)]\n"
          ]
        }
      ]
    },
    {
      "cell_type": "code",
      "source": [
        "class CharRNN(nn.Module):\n",
        "    def __init__(self, vocab_size, embedding_dim, hidden_dim, num_layers):\n",
        "        super(CharRNN, self).__init__()\n",
        "        self.embedding = nn.Embedding(vocab_size, embedding_dim)\n",
        "        self.rnn = nn.LSTM(embedding_dim, hidden_dim, num_layers, batch_first=True)\n",
        "        self.layer_norm = nn.LayerNorm(hidden_dim)\n",
        "        self.dropout = nn.Dropout(p=0.2)\n",
        "        self.fc = nn.Linear(hidden_dim, vocab_size)\n",
        "\n",
        "    def forward(self, x, hidden=None):\n",
        "        x = self.embedding(x)\n",
        "        output, hidden = self.rnn(x, hidden)\n",
        "        output = self.layer_norm(output)\n",
        "        output = self.dropout(output)\n",
        "        logits = self.fc(output)\n",
        "        return logits, hidden"
      ],
      "metadata": {
        "id": "h-sbY5fL6Rxt"
      },
      "execution_count": null,
      "outputs": []
    },
    {
      "cell_type": "code",
      "source": [
        "embedding_dim = 128\n",
        "hidden_dim = 256\n",
        "num_layers = 2\n",
        "num_epochs = 3\n",
        "lr = 1e-3\n",
        "\n",
        "# Initialize the model, loss, optimizer, and scheduler\n",
        "charrnn_model = CharRNN(dataset.vocab_size, embedding_dim, hidden_dim, num_layers).to(device)\n",
        "criterion = nn.CrossEntropyLoss()\n",
        "optimizer = optim.Adam(charrnn_model.parameters(), lr=lr)\n",
        "scheduler = torch.optim.lr_scheduler.CosineAnnealingLR(optimizer, T_max=num_epochs, eta_min=1e-4)"
      ],
      "metadata": {
        "id": "8hQl-2R_6UQD"
      },
      "execution_count": null,
      "outputs": []
    },
    {
      "cell_type": "code",
      "source": [
        "# Training loop\n",
        "torch.cuda.empty_cache()\n",
        "gc.collect()\n",
        "\n",
        "for epoch in range(num_epochs):\n",
        "    charrnn_model.train()\n",
        "    epoch_loss = 0\n",
        "    progress_bar = tqdm(dataloader, desc=f\"Epoch [{epoch+1}/{num_epochs}]\", leave=False)\n",
        "    for inputs, targets in progress_bar:\n",
        "        inputs, targets = inputs.to(device), targets.to(device)\n",
        "        optimizer.zero_grad()\n",
        "        outputs, _ = charrnn_model(inputs)\n",
        "        loss = criterion(outputs.view(-1, dataset.vocab_size), targets.view(-1))\n",
        "        loss.backward()\n",
        "        optimizer.step()\n",
        "        epoch_loss += loss.item()\n",
        "        progress_bar.set_postfix(loss=loss.item())\n",
        "\n",
        "    scheduler.step()\n",
        "    print(f\"Epoch [{epoch+1}/{num_epochs}], Loss: {epoch_loss / len(dataloader):.4f}\")\n",
        "    print(f\"Learning Rate: {scheduler.get_last_lr()[0]:.6f}\")"
      ],
      "metadata": {
        "colab": {
          "base_uri": "https://localhost:8080/"
        },
        "id": "NDSduVD36Vhb",
        "outputId": "e371c69b-31c0-41ef-d4fe-e27e0ac7e1d6"
      },
      "execution_count": null,
      "outputs": [
        {
          "output_type": "stream",
          "name": "stderr",
          "text": []
        },
        {
          "output_type": "stream",
          "name": "stdout",
          "text": [
            "Epoch [1/3], Loss: 1.3807\n",
            "Learning Rate: 0.000775\n"
          ]
        },
        {
          "output_type": "stream",
          "name": "stderr",
          "text": []
        },
        {
          "output_type": "stream",
          "name": "stdout",
          "text": [
            "Epoch [2/3], Loss: 1.3253\n",
            "Learning Rate: 0.000325\n"
          ]
        },
        {
          "output_type": "stream",
          "name": "stderr",
          "text": [
            "                                                                              "
          ]
        },
        {
          "output_type": "stream",
          "name": "stdout",
          "text": [
            "Epoch [3/3], Loss: 1.3007\n",
            "Learning Rate: 0.000100\n"
          ]
        },
        {
          "output_type": "stream",
          "name": "stderr",
          "text": [
            "\r"
          ]
        }
      ]
    },
    {
      "cell_type": "code",
      "source": [
        "# Save model\n",
        "#torch.save(charrnn_model.state_dict(), \"better_charrnn_weights.pth\")\n",
        "#torch.save(dataset.char2idx, \"better_charrnn_char2idx.pth\")"
      ],
      "metadata": {
        "id": "INi_RPmR6vKk"
      },
      "execution_count": null,
      "outputs": []
    },
    {
      "cell_type": "code",
      "source": [
        "# Load model\n",
        "charrnn_model.load_state_dict(torch.load(\"better_charrnn_weights.pth\"))\n",
        "char2idx = torch.load(\"better_charrnn_char2idx.pth\")"
      ],
      "metadata": {
        "colab": {
          "base_uri": "https://localhost:8080/"
        },
        "id": "rM_wn-9pM36I",
        "outputId": "6985eb40-93ef-4e6f-deeb-f8011fb26ab1"
      },
      "execution_count": null,
      "outputs": [
        {
          "output_type": "stream",
          "name": "stderr",
          "text": [
            "<ipython-input-23-5c37ded1b7ea>:2: FutureWarning: You are using `torch.load` with `weights_only=False` (the current default value), which uses the default pickle module implicitly. It is possible to construct malicious pickle data which will execute arbitrary code during unpickling (See https://github.com/pytorch/pytorch/blob/main/SECURITY.md#untrusted-models for more details). In a future release, the default value for `weights_only` will be flipped to `True`. This limits the functions that could be executed during unpickling. Arbitrary objects will no longer be allowed to be loaded via this mode unless they are explicitly allowlisted by the user via `torch.serialization.add_safe_globals`. We recommend you start setting `weights_only=True` for any use case where you don't have full control of the loaded file. Please open an issue on GitHub for any issues related to this experimental feature.\n",
            "  charrnn_model.load_state_dict(torch.load(\"better_charrnn_weights.pth\"))\n",
            "<ipython-input-23-5c37ded1b7ea>:3: FutureWarning: You are using `torch.load` with `weights_only=False` (the current default value), which uses the default pickle module implicitly. It is possible to construct malicious pickle data which will execute arbitrary code during unpickling (See https://github.com/pytorch/pytorch/blob/main/SECURITY.md#untrusted-models for more details). In a future release, the default value for `weights_only` will be flipped to `True`. This limits the functions that could be executed during unpickling. Arbitrary objects will no longer be allowed to be loaded via this mode unless they are explicitly allowlisted by the user via `torch.serialization.add_safe_globals`. We recommend you start setting `weights_only=True` for any use case where you don't have full control of the loaded file. Please open an issue on GitHub for any issues related to this experimental feature.\n",
            "  char2idx = torch.load(\"better_charrnn_char2idx.pth\")\n"
          ]
        }
      ]
    },
    {
      "cell_type": "code",
      "source": [
        "def predict_next_char(model, char2idx, input_text):\n",
        "    model.eval()\n",
        "    input_text = input_text.upper() # All inputs should be capital letters and space\n",
        "    input_tensor = torch.tensor([char2idx[ch] for ch in input_text], dtype=torch.long).unsqueeze(0).to(device)\n",
        "\n",
        "    with torch.no_grad():\n",
        "        logits, _ = model(input_tensor)\n",
        "        probs = torch.softmax(logits[:, -1, :], dim=-1)  # Softmax over the last character in the sequence\n",
        "        next_char_idx = torch.argmax(probs).item()  # Index of the most probable character\n",
        "        confidence = probs[0, next_char_idx].item()  # Confidence (probability) of the predicted character\n",
        "        next_char = [ch for ch, idx in char2idx.items() if idx == next_char_idx][0] # Map index to char\n",
        "\n",
        "    return next_char, confidence"
      ],
      "metadata": {
        "id": "4nNQu6gyMyZz"
      },
      "execution_count": null,
      "outputs": []
    },
    {
      "cell_type": "code",
      "source": [
        "# Test CharRNN model on single inputs\n",
        "start_text = \"FLEXIBL\"\n",
        "next_char, confidence = predict_next_char(charrnn_model, char2idx, start_text)\n",
        "\n",
        "print(f\"Input: {start_text}\")\n",
        "print(f\"Predicted next character: {next_char}\")\n",
        "print(f\"Confidence: {confidence:.4f}\")"
      ],
      "metadata": {
        "id": "1d1eXTCxM12s",
        "colab": {
          "base_uri": "https://localhost:8080/"
        },
        "outputId": "383097e1-42ad-49dd-ac54-0840b86286d1"
      },
      "execution_count": null,
      "outputs": [
        {
          "output_type": "stream",
          "name": "stdout",
          "text": [
            "Input: FLEXIBL\n",
            "Predicted next character: E\n",
            "Confidence: 0.9858\n"
          ]
        }
      ]
    },
    {
      "cell_type": "code",
      "source": [
        "def evaluate_model_on_words(model, char2idx, word_list):\n",
        "    total_correct_chars = 0\n",
        "    total_chars = 0\n",
        "\n",
        "    for word in word_list:\n",
        "        word = word.upper() # All inputs should be capital letters and space\n",
        "        correct_chars = 0\n",
        "\n",
        "        for i in range(1, len(word)):\n",
        "            input_text = word[:i]  # Provide the first i characters as input\n",
        "            target_char = word[i]  # The next character to predict\n",
        "            predicted_char, _ = predict_next_char(model, char2idx, input_text)\n",
        "\n",
        "            if predicted_char == target_char:\n",
        "                correct_chars += 1\n",
        "\n",
        "        total_correct_chars += correct_chars\n",
        "        total_chars += len(word) - 1  # Exclude the first character\n",
        "\n",
        "    accuracy = total_correct_chars / total_chars if total_chars > 0 else 0\n",
        "    return accuracy\n"
      ],
      "metadata": {
        "id": "uNYd3faRmxyF"
      },
      "execution_count": null,
      "outputs": []
    },
    {
      "cell_type": "code",
      "source": [
        "# Test CharRNN on entire word set\n",
        "word_set_accuracy = evaluate_model_on_words(charrnn_model, char2idx, lotsofwords)\n",
        "print(f\"Evaluation Accuracy: {word_set_accuracy:.4f}\")"
      ],
      "metadata": {
        "colab": {
          "base_uri": "https://localhost:8080/"
        },
        "id": "Fiy9HSZVm4BP",
        "outputId": "2efd123f-cd08-4c3b-ba16-99da8364ac36"
      },
      "execution_count": null,
      "outputs": [
        {
          "output_type": "stream",
          "name": "stdout",
          "text": [
            "Evaluation Accuracy: 0.5669\n"
          ]
        }
      ]
    },
    {
      "cell_type": "markdown",
      "source": [
        "# EEGNet"
      ],
      "metadata": {
        "id": "kUcJafC6GS3m"
      }
    },
    {
      "cell_type": "code",
      "source": [
        "# Creating an EEGNet model\n",
        "#eegnet_model = EEGNet(nb_classes=40, Chans=64, Samples=250, dropoutRate=0.5, kernLength=64, F1=8, D=2, F2=16, dropoutType='Dropout')\n",
        "eegnet_model = EEGNet(nb_classes=40, Chans=64, Samples=250, dropoutRate=0.2, kernLength=64, F1=16, D=2, F2=32, dropoutType='Dropout')\n",
        "\n",
        "eegnet_model.compile(loss='categorical_crossentropy', optimizer='adam', metrics=['accuracy'])\n",
        "\n",
        "eegnet_model.summary()"
      ],
      "metadata": {
        "id": "qrPAma50IgmP",
        "colab": {
          "base_uri": "https://localhost:8080/"
        },
        "outputId": "e93b0216-8683-407c-e6c9-716f2e5d98cb"
      },
      "execution_count": null,
      "outputs": [
        {
          "output_type": "stream",
          "name": "stdout",
          "text": [
            "Model: \"model_1\"\n",
            "_________________________________________________________________\n",
            " Layer (type)                Output Shape              Param #   \n",
            "=================================================================\n",
            " input_2 (InputLayer)        [(None, 64, 250, 1)]      0         \n",
            "                                                                 \n",
            " conv2d_1 (Conv2D)           (None, 64, 250, 16)       1024      \n",
            "                                                                 \n",
            " batch_normalization_3 (Batc  (None, 64, 250, 16)      64        \n",
            " hNormalization)                                                 \n",
            "                                                                 \n",
            " depthwise_conv2d_1 (Depthwi  (None, 1, 250, 32)       2048      \n",
            " seConv2D)                                                       \n",
            "                                                                 \n",
            " batch_normalization_4 (Batc  (None, 1, 250, 32)       128       \n",
            " hNormalization)                                                 \n",
            "                                                                 \n",
            " activation_2 (Activation)   (None, 1, 250, 32)        0         \n",
            "                                                                 \n",
            " average_pooling2d_2 (Averag  (None, 1, 62, 32)        0         \n",
            " ePooling2D)                                                     \n",
            "                                                                 \n",
            " dropout_2 (Dropout)         (None, 1, 62, 32)         0         \n",
            "                                                                 \n",
            " separable_conv2d_1 (Separab  (None, 1, 62, 32)        1536      \n",
            " leConv2D)                                                       \n",
            "                                                                 \n",
            " batch_normalization_5 (Batc  (None, 1, 62, 32)        128       \n",
            " hNormalization)                                                 \n",
            "                                                                 \n",
            " activation_3 (Activation)   (None, 1, 62, 32)         0         \n",
            "                                                                 \n",
            " average_pooling2d_3 (Averag  (None, 1, 7, 32)         0         \n",
            " ePooling2D)                                                     \n",
            "                                                                 \n",
            " dropout_3 (Dropout)         (None, 1, 7, 32)          0         \n",
            "                                                                 \n",
            " flatten (Flatten)           (None, 224)               0         \n",
            "                                                                 \n",
            " dense (Dense)               (None, 40)                9000      \n",
            "                                                                 \n",
            " softmax (Activation)        (None, 40)                0         \n",
            "                                                                 \n",
            "=================================================================\n",
            "Total params: 13,928\n",
            "Trainable params: 13,768\n",
            "Non-trainable params: 160\n",
            "_________________________________________________________________\n"
          ]
        }
      ]
    },
    {
      "cell_type": "code",
      "source": [
        "# Get training data\n",
        "X_all, y_all = [], []\n",
        "\n",
        "# Iterate through each file in the directory\n",
        "for file_name in os.listdir(subject_rawdata_dir):\n",
        "    if file_name.endswith('.mat'):\n",
        "        print(f'Processing file: {file_name}')\n",
        "        file_path = os.path.join(subject_rawdata_dir, file_name)\n",
        "        X_single, y_single = load_benchmark_data(file_path)\n",
        "        X_all.append(X_single)\n",
        "        y_all.append(y_single)\n",
        "\n",
        "# Concatenate all the data\n",
        "X_all = np.concatenate(X_all, axis=0)\n",
        "y_all = np.concatenate(y_all, axis=0)\n",
        "\n",
        "print(f\"Combined X shape: {X_all.shape}\")\n",
        "print(f\"Combined y shape: {y_all.shape}\")"
      ],
      "metadata": {
        "id": "UOgptu3rgisM",
        "colab": {
          "base_uri": "https://localhost:8080/"
        },
        "outputId": "c53037f0-138c-42e3-9cd6-7d5b7cd4233f"
      },
      "execution_count": null,
      "outputs": [
        {
          "output_type": "stream",
          "name": "stdout",
          "text": [
            "Processing file: S29.mat\n",
            "Processing file: S3.mat\n",
            "Processing file: S7.mat\n",
            "Processing file: S35.mat\n",
            "Processing file: S12.mat\n",
            "Processing file: S9.mat\n",
            "Processing file: S14.mat\n",
            "Processing file: S15.mat\n",
            "Processing file: S1.mat\n",
            "Processing file: S26.mat\n",
            "Processing file: S32.mat\n",
            "Processing file: S24.mat\n",
            "Processing file: S11.mat\n",
            "Processing file: S27.mat\n",
            "Processing file: S19.mat\n",
            "Processing file: S18.mat\n",
            "Processing file: S16.mat\n",
            "Processing file: S10.mat\n",
            "Processing file: S20.mat\n",
            "Processing file: S4.mat\n",
            "Processing file: S33.mat\n",
            "Processing file: S13.mat\n",
            "Processing file: S21.mat\n",
            "Processing file: S2.mat\n",
            "Processing file: S23.mat\n",
            "Processing file: S8.mat\n",
            "Processing file: S5.mat\n",
            "Processing file: S28.mat\n",
            "Processing file: S25.mat\n",
            "Processing file: S34.mat\n",
            "Processing file: S6.mat\n",
            "Processing file: S30.mat\n",
            "Processing file: S31.mat\n",
            "Processing file: S17.mat\n",
            "Processing file: S22.mat\n",
            "Combined X shape: (8400, 64, 250)\n",
            "Combined y shape: (8400, 40)\n"
          ]
        }
      ]
    },
    {
      "cell_type": "code",
      "source": [
        "# Initialize KFold with 10 splits\n",
        "kf = KFold(n_splits=10, shuffle=True, random_state=42)\n",
        "# Initialize lists to store validation scores for each fold\n",
        "val_losses = []\n",
        "val_accuracies = []\n",
        "initializer = RandomNormal(mean=0.0, stddev=0.1)\n",
        "# Loop through each fold\n",
        "for fold, (train_index, val_index) in enumerate(kf.split(X_all)):\n",
        "    print(f\"Training fold {fold + 1}...\")\n",
        "\n",
        "    # Split data into training and validation sets for this fold\n",
        "    X_train, X_val = X_all[train_index], X_all[val_index]\n",
        "    y_train, y_val = y_all[train_index], y_all[val_index]\n",
        "\n",
        "    history = eegnet_model.fit(X_train, y_train, batch_size=32, epochs=100, verbose=1,\n",
        "                        validation_data=(X_val, y_val))\n",
        "\n",
        "    # Get the final validation loss and accuracy for this fold\n",
        "    loss = history.history['val_loss'][-1]\n",
        "    accuracy = history.history['val_accuracy'][-1]\n",
        "\n",
        "\n",
        "    # Store the results\n",
        "    val_losses.append(loss)\n",
        "    val_accuracies.append(accuracy)\n",
        "\n",
        "    print(f\"Fold {fold + 1} - Validation Loss: {loss:.4f}, Validation Accuracy: {accuracy:.4f}\")\n",
        "    break # End at first fold\n",
        "\n",
        "# Calculate average performance across all folds\n",
        "avg_loss = np.mean(val_losses)\n",
        "avg_accuracy = np.mean(val_accuracies)\n",
        "\n",
        "print(f\"\\n10-Fold Cross-Validation Results:\")\n",
        "print(f\"Average Validation Loss: {avg_loss:.4f}\")\n",
        "print(f\"Average Validation Accuracy: {avg_accuracy:.4f}\")"
      ],
      "metadata": {
        "colab": {
          "base_uri": "https://localhost:8080/"
        },
        "id": "2dH_uF7-obR0",
        "outputId": "ee240843-0ee5-4927-817b-50054366db64"
      },
      "execution_count": null,
      "outputs": [
        {
          "output_type": "stream",
          "name": "stdout",
          "text": [
            "Training fold 1...\n",
            "Epoch 1/100\n",
            "237/237 [==============================] - 47s 197ms/step - loss: 3.5897 - accuracy: 0.0393 - val_loss: 3.4478 - val_accuracy: 0.0464\n",
            "Epoch 2/100\n",
            "237/237 [==============================] - 45s 192ms/step - loss: 3.3792 - accuracy: 0.0595 - val_loss: 3.3141 - val_accuracy: 0.0619\n",
            "Epoch 3/100\n",
            "237/237 [==============================] - 47s 197ms/step - loss: 3.3259 - accuracy: 0.0656 - val_loss: 3.2695 - val_accuracy: 0.0631\n",
            "Epoch 4/100\n",
            "237/237 [==============================] - 46s 193ms/step - loss: 3.2818 - accuracy: 0.0714 - val_loss: 3.2175 - val_accuracy: 0.0750\n",
            "Epoch 5/100\n",
            "237/237 [==============================] - 45s 192ms/step - loss: 3.2451 - accuracy: 0.0804 - val_loss: 3.1766 - val_accuracy: 0.1202\n",
            "Epoch 6/100\n",
            "237/237 [==============================] - 46s 193ms/step - loss: 3.1264 - accuracy: 0.1003 - val_loss: 2.9452 - val_accuracy: 0.1107\n",
            "Epoch 7/100\n",
            "237/237 [==============================] - 46s 193ms/step - loss: 2.9855 - accuracy: 0.1205 - val_loss: 2.8795 - val_accuracy: 0.1369\n",
            "Epoch 8/100\n",
            "237/237 [==============================] - 46s 192ms/step - loss: 2.9337 - accuracy: 0.1259 - val_loss: 2.8324 - val_accuracy: 0.1619\n",
            "Epoch 9/100\n",
            "237/237 [==============================] - 45s 192ms/step - loss: 2.9018 - accuracy: 0.1299 - val_loss: 2.8038 - val_accuracy: 0.1369\n",
            "Epoch 10/100\n",
            "237/237 [==============================] - 46s 195ms/step - loss: 2.8858 - accuracy: 0.1374 - val_loss: 2.7699 - val_accuracy: 0.1631\n",
            "Epoch 11/100\n",
            "237/237 [==============================] - 47s 197ms/step - loss: 2.8557 - accuracy: 0.1421 - val_loss: 2.7437 - val_accuracy: 0.1595\n",
            "Epoch 12/100\n",
            "237/237 [==============================] - 45s 191ms/step - loss: 2.8405 - accuracy: 0.1398 - val_loss: 2.7412 - val_accuracy: 0.1762\n",
            "Epoch 13/100\n",
            "237/237 [==============================] - 45s 192ms/step - loss: 2.8243 - accuracy: 0.1421 - val_loss: 2.6868 - val_accuracy: 0.1774\n",
            "Epoch 14/100\n",
            "237/237 [==============================] - 45s 192ms/step - loss: 2.8128 - accuracy: 0.1480 - val_loss: 2.6717 - val_accuracy: 0.1762\n",
            "Epoch 15/100\n",
            "237/237 [==============================] - 46s 194ms/step - loss: 2.7881 - accuracy: 0.1537 - val_loss: 2.5535 - val_accuracy: 0.2357\n",
            "Epoch 16/100\n",
            "237/237 [==============================] - 46s 193ms/step - loss: 2.6744 - accuracy: 0.1923 - val_loss: 2.4188 - val_accuracy: 0.2595\n",
            "Epoch 17/100\n",
            "237/237 [==============================] - 46s 193ms/step - loss: 2.6033 - accuracy: 0.1964 - val_loss: 2.3876 - val_accuracy: 0.2583\n",
            "Epoch 18/100\n",
            "237/237 [==============================] - 45s 192ms/step - loss: 2.5649 - accuracy: 0.2089 - val_loss: 2.3220 - val_accuracy: 0.2893\n",
            "Epoch 19/100\n",
            "237/237 [==============================] - 45s 191ms/step - loss: 2.5316 - accuracy: 0.2197 - val_loss: 2.3154 - val_accuracy: 0.3024\n",
            "Epoch 20/100\n",
            "237/237 [==============================] - 45s 191ms/step - loss: 2.5111 - accuracy: 0.2229 - val_loss: 2.2934 - val_accuracy: 0.3107\n",
            "Epoch 21/100\n",
            "237/237 [==============================] - 45s 191ms/step - loss: 2.4835 - accuracy: 0.2181 - val_loss: 2.2397 - val_accuracy: 0.3012\n",
            "Epoch 22/100\n",
            "237/237 [==============================] - 45s 192ms/step - loss: 2.4668 - accuracy: 0.2279 - val_loss: 2.2303 - val_accuracy: 0.2976\n",
            "Epoch 23/100\n",
            "237/237 [==============================] - 45s 191ms/step - loss: 2.4498 - accuracy: 0.2399 - val_loss: 2.2024 - val_accuracy: 0.3060\n",
            "Epoch 24/100\n",
            "237/237 [==============================] - 45s 190ms/step - loss: 2.4321 - accuracy: 0.2472 - val_loss: 2.1656 - val_accuracy: 0.3464\n",
            "Epoch 25/100\n",
            "237/237 [==============================] - 46s 193ms/step - loss: 2.4259 - accuracy: 0.2415 - val_loss: 2.1536 - val_accuracy: 0.3476\n",
            "Epoch 26/100\n",
            "237/237 [==============================] - 45s 192ms/step - loss: 2.4150 - accuracy: 0.2557 - val_loss: 2.1195 - val_accuracy: 0.3488\n",
            "Epoch 27/100\n",
            "237/237 [==============================] - 46s 193ms/step - loss: 2.3923 - accuracy: 0.2529 - val_loss: 2.1169 - val_accuracy: 0.3607\n",
            "Epoch 28/100\n",
            "237/237 [==============================] - 46s 193ms/step - loss: 2.3878 - accuracy: 0.2571 - val_loss: 2.1002 - val_accuracy: 0.3429\n",
            "Epoch 29/100\n",
            "237/237 [==============================] - 45s 192ms/step - loss: 2.3753 - accuracy: 0.2553 - val_loss: 2.1022 - val_accuracy: 0.3357\n",
            "Epoch 30/100\n",
            "237/237 [==============================] - 46s 193ms/step - loss: 2.3751 - accuracy: 0.2553 - val_loss: 2.0889 - val_accuracy: 0.3357\n",
            "Epoch 31/100\n",
            "237/237 [==============================] - 45s 192ms/step - loss: 2.3805 - accuracy: 0.2591 - val_loss: 2.0784 - val_accuracy: 0.3429\n",
            "Epoch 32/100\n",
            "237/237 [==============================] - 45s 191ms/step - loss: 2.3623 - accuracy: 0.2567 - val_loss: 2.0523 - val_accuracy: 0.3869\n",
            "Epoch 33/100\n",
            "237/237 [==============================] - 45s 191ms/step - loss: 2.3547 - accuracy: 0.2587 - val_loss: 2.0411 - val_accuracy: 0.3536\n",
            "Epoch 34/100\n",
            "237/237 [==============================] - 45s 191ms/step - loss: 2.3442 - accuracy: 0.2663 - val_loss: 2.0235 - val_accuracy: 0.4036\n",
            "Epoch 35/100\n",
            "237/237 [==============================] - 45s 191ms/step - loss: 2.3282 - accuracy: 0.2675 - val_loss: 2.0373 - val_accuracy: 0.3679\n",
            "Epoch 36/100\n",
            "237/237 [==============================] - 45s 192ms/step - loss: 2.3322 - accuracy: 0.2655 - val_loss: 2.0261 - val_accuracy: 0.3881\n",
            "Epoch 37/100\n",
            "237/237 [==============================] - 46s 193ms/step - loss: 2.3454 - accuracy: 0.2626 - val_loss: 2.0476 - val_accuracy: 0.3583\n",
            "Epoch 38/100\n",
            "237/237 [==============================] - 45s 190ms/step - loss: 2.3124 - accuracy: 0.2738 - val_loss: 2.0026 - val_accuracy: 0.3786\n",
            "Epoch 39/100\n",
            "237/237 [==============================] - 45s 190ms/step - loss: 2.3134 - accuracy: 0.2708 - val_loss: 2.0255 - val_accuracy: 0.3845\n",
            "Epoch 40/100\n",
            "237/237 [==============================] - 45s 191ms/step - loss: 2.3180 - accuracy: 0.2675 - val_loss: 1.9970 - val_accuracy: 0.3917\n",
            "Epoch 41/100\n",
            "237/237 [==============================] - 45s 190ms/step - loss: 2.3260 - accuracy: 0.2696 - val_loss: 1.9801 - val_accuracy: 0.3833\n",
            "Epoch 42/100\n",
            "237/237 [==============================] - 46s 193ms/step - loss: 2.3076 - accuracy: 0.2733 - val_loss: 2.0004 - val_accuracy: 0.3905\n",
            "Epoch 43/100\n",
            "237/237 [==============================] - 45s 190ms/step - loss: 2.3276 - accuracy: 0.2725 - val_loss: 2.0001 - val_accuracy: 0.3869\n",
            "Epoch 44/100\n",
            "237/237 [==============================] - 45s 189ms/step - loss: 2.2901 - accuracy: 0.2853 - val_loss: 1.9872 - val_accuracy: 0.3881\n",
            "Epoch 45/100\n",
            "237/237 [==============================] - 45s 190ms/step - loss: 2.2983 - accuracy: 0.2717 - val_loss: 1.9571 - val_accuracy: 0.3988\n",
            "Epoch 46/100\n",
            "237/237 [==============================] - 45s 191ms/step - loss: 2.2781 - accuracy: 0.2821 - val_loss: 1.9238 - val_accuracy: 0.3976\n",
            "Epoch 47/100\n",
            "237/237 [==============================] - 45s 190ms/step - loss: 2.2460 - accuracy: 0.2899 - val_loss: 1.9366 - val_accuracy: 0.3952\n",
            "Epoch 48/100\n",
            "237/237 [==============================] - 45s 190ms/step - loss: 2.2051 - accuracy: 0.2959 - val_loss: 1.8638 - val_accuracy: 0.4310\n",
            "Epoch 49/100\n",
            "237/237 [==============================] - 45s 190ms/step - loss: 2.1478 - accuracy: 0.3169 - val_loss: 1.7988 - val_accuracy: 0.4500\n",
            "Epoch 50/100\n",
            "237/237 [==============================] - 45s 189ms/step - loss: 2.1246 - accuracy: 0.3230 - val_loss: 1.7759 - val_accuracy: 0.4417\n",
            "Epoch 51/100\n",
            "237/237 [==============================] - 45s 191ms/step - loss: 2.0708 - accuracy: 0.3380 - val_loss: 1.7694 - val_accuracy: 0.4512\n",
            "Epoch 52/100\n",
            "237/237 [==============================] - 45s 189ms/step - loss: 2.0702 - accuracy: 0.3296 - val_loss: 1.7473 - val_accuracy: 0.4345\n",
            "Epoch 53/100\n",
            "237/237 [==============================] - 45s 190ms/step - loss: 2.0532 - accuracy: 0.3472 - val_loss: 1.7094 - val_accuracy: 0.4667\n",
            "Epoch 54/100\n",
            "237/237 [==============================] - 45s 192ms/step - loss: 2.0315 - accuracy: 0.3519 - val_loss: 1.6754 - val_accuracy: 0.4810\n",
            "Epoch 55/100\n",
            "237/237 [==============================] - 45s 192ms/step - loss: 1.9788 - accuracy: 0.3574 - val_loss: 1.6094 - val_accuracy: 0.5524\n",
            "Epoch 56/100\n",
            "237/237 [==============================] - 45s 192ms/step - loss: 1.9463 - accuracy: 0.3689 - val_loss: 1.5862 - val_accuracy: 0.5310\n",
            "Epoch 57/100\n",
            "237/237 [==============================] - 45s 191ms/step - loss: 1.9082 - accuracy: 0.3804 - val_loss: 1.5410 - val_accuracy: 0.5595\n",
            "Epoch 58/100\n",
            "237/237 [==============================] - 45s 190ms/step - loss: 1.8726 - accuracy: 0.3852 - val_loss: 1.5195 - val_accuracy: 0.5667\n",
            "Epoch 59/100\n",
            "237/237 [==============================] - 45s 192ms/step - loss: 1.8818 - accuracy: 0.3856 - val_loss: 1.4847 - val_accuracy: 0.5571\n",
            "Epoch 60/100\n",
            "237/237 [==============================] - 46s 195ms/step - loss: 1.8248 - accuracy: 0.4074 - val_loss: 1.4842 - val_accuracy: 0.5548\n",
            "Epoch 61/100\n",
            "237/237 [==============================] - 45s 190ms/step - loss: 1.8200 - accuracy: 0.4160 - val_loss: 1.4918 - val_accuracy: 0.5774\n",
            "Epoch 62/100\n",
            "237/237 [==============================] - 45s 192ms/step - loss: 1.8219 - accuracy: 0.4086 - val_loss: 1.4463 - val_accuracy: 0.5869\n",
            "Epoch 63/100\n",
            "237/237 [==============================] - 45s 191ms/step - loss: 1.7857 - accuracy: 0.4209 - val_loss: 1.4257 - val_accuracy: 0.6429\n",
            "Epoch 64/100\n",
            "237/237 [==============================] - 48s 201ms/step - loss: 1.7969 - accuracy: 0.4126 - val_loss: 1.4013 - val_accuracy: 0.6179\n",
            "Epoch 65/100\n",
            "237/237 [==============================] - 45s 191ms/step - loss: 1.7839 - accuracy: 0.4220 - val_loss: 1.3987 - val_accuracy: 0.6357\n",
            "Epoch 66/100\n",
            "237/237 [==============================] - 44s 186ms/step - loss: 1.7884 - accuracy: 0.4149 - val_loss: 1.3699 - val_accuracy: 0.6369\n",
            "Epoch 67/100\n",
            "237/237 [==============================] - 44s 184ms/step - loss: 1.8042 - accuracy: 0.4144 - val_loss: 1.4062 - val_accuracy: 0.5738\n",
            "Epoch 68/100\n",
            "237/237 [==============================] - 44s 185ms/step - loss: 1.7875 - accuracy: 0.4302 - val_loss: 1.3884 - val_accuracy: 0.6048\n",
            "Epoch 69/100\n",
            "237/237 [==============================] - 44s 184ms/step - loss: 1.7752 - accuracy: 0.4190 - val_loss: 1.3668 - val_accuracy: 0.6357\n",
            "Epoch 70/100\n",
            "237/237 [==============================] - 44s 184ms/step - loss: 1.7820 - accuracy: 0.4194 - val_loss: 1.3475 - val_accuracy: 0.6310\n",
            "Epoch 71/100\n",
            "237/237 [==============================] - 44s 184ms/step - loss: 1.7401 - accuracy: 0.4298 - val_loss: 1.3859 - val_accuracy: 0.5917\n",
            "Epoch 72/100\n",
            "237/237 [==============================] - 44s 185ms/step - loss: 1.7626 - accuracy: 0.4272 - val_loss: 1.3401 - val_accuracy: 0.6512\n",
            "Epoch 73/100\n",
            "237/237 [==============================] - 38s 160ms/step - loss: 1.7532 - accuracy: 0.4308 - val_loss: 1.3534 - val_accuracy: 0.6333\n",
            "Epoch 74/100\n",
            "237/237 [==============================] - 38s 160ms/step - loss: 1.7283 - accuracy: 0.4399 - val_loss: 1.3061 - val_accuracy: 0.6536\n",
            "Epoch 75/100\n",
            "237/237 [==============================] - 38s 161ms/step - loss: 1.7286 - accuracy: 0.4491 - val_loss: 1.3171 - val_accuracy: 0.6500\n",
            "Epoch 76/100\n",
            "237/237 [==============================] - 38s 160ms/step - loss: 1.7549 - accuracy: 0.4269 - val_loss: 1.2907 - val_accuracy: 0.6786\n",
            "Epoch 77/100\n",
            "237/237 [==============================] - 38s 160ms/step - loss: 1.7371 - accuracy: 0.4430 - val_loss: 1.2948 - val_accuracy: 0.6595\n",
            "Epoch 78/100\n",
            "237/237 [==============================] - 38s 161ms/step - loss: 1.7286 - accuracy: 0.4454 - val_loss: 1.3203 - val_accuracy: 0.6524\n",
            "Epoch 79/100\n",
            "237/237 [==============================] - 38s 160ms/step - loss: 1.7050 - accuracy: 0.4487 - val_loss: 1.3354 - val_accuracy: 0.6238\n",
            "Epoch 80/100\n",
            "237/237 [==============================] - 38s 160ms/step - loss: 1.7300 - accuracy: 0.4384 - val_loss: 1.2926 - val_accuracy: 0.6548\n",
            "Epoch 81/100\n",
            "237/237 [==============================] - 38s 160ms/step - loss: 1.7164 - accuracy: 0.4472 - val_loss: 1.2658 - val_accuracy: 0.6619\n",
            "Epoch 82/100\n",
            "237/237 [==============================] - 38s 160ms/step - loss: 1.7263 - accuracy: 0.4433 - val_loss: 1.2760 - val_accuracy: 0.6524\n",
            "Epoch 83/100\n",
            "237/237 [==============================] - 38s 162ms/step - loss: 1.7430 - accuracy: 0.4385 - val_loss: 1.2784 - val_accuracy: 0.6298\n",
            "Epoch 84/100\n",
            "237/237 [==============================] - 38s 160ms/step - loss: 1.7036 - accuracy: 0.4538 - val_loss: 1.2376 - val_accuracy: 0.6976\n",
            "Epoch 85/100\n",
            "237/237 [==============================] - 38s 160ms/step - loss: 1.7099 - accuracy: 0.4467 - val_loss: 1.2934 - val_accuracy: 0.6548\n",
            "Epoch 86/100\n",
            "237/237 [==============================] - 38s 160ms/step - loss: 1.7251 - accuracy: 0.4488 - val_loss: 1.2759 - val_accuracy: 0.6381\n",
            "Epoch 87/100\n",
            "237/237 [==============================] - 38s 160ms/step - loss: 1.7106 - accuracy: 0.4464 - val_loss: 1.2597 - val_accuracy: 0.6560\n",
            "Epoch 88/100\n",
            "237/237 [==============================] - 38s 161ms/step - loss: 1.7042 - accuracy: 0.4466 - val_loss: 1.2608 - val_accuracy: 0.6833\n",
            "Epoch 89/100\n",
            "237/237 [==============================] - 38s 161ms/step - loss: 1.6953 - accuracy: 0.4492 - val_loss: 1.2731 - val_accuracy: 0.6429\n",
            "Epoch 90/100\n",
            "237/237 [==============================] - 38s 162ms/step - loss: 1.7091 - accuracy: 0.4472 - val_loss: 1.2551 - val_accuracy: 0.6548\n",
            "Epoch 91/100\n",
            "237/237 [==============================] - 39s 163ms/step - loss: 1.7118 - accuracy: 0.4352 - val_loss: 1.2515 - val_accuracy: 0.6393\n",
            "Epoch 92/100\n",
            "237/237 [==============================] - 39s 164ms/step - loss: 1.7076 - accuracy: 0.4421 - val_loss: 1.2909 - val_accuracy: 0.6369\n",
            "Epoch 93/100\n",
            "237/237 [==============================] - 39s 164ms/step - loss: 1.6968 - accuracy: 0.4468 - val_loss: 1.2708 - val_accuracy: 0.6571\n",
            "Epoch 94/100\n",
            "237/237 [==============================] - 39s 165ms/step - loss: 1.6790 - accuracy: 0.4639 - val_loss: 1.2227 - val_accuracy: 0.6702\n",
            "Epoch 95/100\n",
            "237/237 [==============================] - 40s 168ms/step - loss: 1.6987 - accuracy: 0.4487 - val_loss: 1.2551 - val_accuracy: 0.6214\n",
            "Epoch 96/100\n",
            "237/237 [==============================] - 40s 168ms/step - loss: 1.6911 - accuracy: 0.4554 - val_loss: 1.2620 - val_accuracy: 0.6333\n",
            "Epoch 97/100\n",
            "237/237 [==============================] - 39s 164ms/step - loss: 1.6753 - accuracy: 0.4554 - val_loss: 1.2223 - val_accuracy: 0.6821\n",
            "Epoch 98/100\n",
            "237/237 [==============================] - 39s 163ms/step - loss: 1.6724 - accuracy: 0.4643 - val_loss: 1.2222 - val_accuracy: 0.6583\n",
            "Epoch 99/100\n",
            "237/237 [==============================] - 39s 163ms/step - loss: 1.6742 - accuracy: 0.4590 - val_loss: 1.2290 - val_accuracy: 0.6464\n",
            "Epoch 100/100\n",
            "237/237 [==============================] - 39s 162ms/step - loss: 1.6826 - accuracy: 0.4544 - val_loss: 1.2257 - val_accuracy: 0.6786\n",
            "Fold 1 - Validation Loss: 1.2257, Validation Accuracy: 0.6786\n",
            "\n",
            "10-Fold Cross-Validation Results:\n",
            "Average Validation Loss: 1.2257\n",
            "Average Validation Accuracy: 0.6786\n"
          ]
        }
      ]
    },
    {
      "cell_type": "code",
      "source": [
        "# Save current model\n",
        "#eegnet_model.save_weights(\"someweights.h5\")"
      ],
      "metadata": {
        "id": "tHfz6lhS6NYk"
      },
      "execution_count": null,
      "outputs": []
    },
    {
      "cell_type": "code",
      "source": [
        "eegnet_model.load_weights(\"weights.h5\")"
      ],
      "metadata": {
        "id": "p_NIR0mkCFmH"
      },
      "execution_count": null,
      "outputs": []
    },
    {
      "cell_type": "code",
      "source": [
        "# Test that model is working\n",
        "loss, accuracy = eegnet_model.evaluate(X_all, y_all, batch_size=1, verbose=1)\n",
        "\n",
        "print(f\"Validation Loss: {loss:.4f}\")\n",
        "print(f\"Validation Accuracy: {accuracy:.4f}\")"
      ],
      "metadata": {
        "id": "nnpGY43XBfm8",
        "colab": {
          "base_uri": "https://localhost:8080/"
        },
        "outputId": "17257653-3d2b-4a0d-9d48-0627bca265cd"
      },
      "execution_count": null,
      "outputs": [
        {
          "output_type": "stream",
          "name": "stdout",
          "text": [
            "8400/8400 [==============================] - 27s 3ms/step - loss: 0.4321 - accuracy: 0.9385\n",
            "Validation Loss: 0.4321\n",
            "Validation Accuracy: 0.9385\n"
          ]
        }
      ]
    },
    {
      "cell_type": "markdown",
      "source": [
        "# Hybrid EEGNet-CharRNN Model Evaluation on Word Sets"
      ],
      "metadata": {
        "id": "FtX06GB_TPkA"
      }
    },
    {
      "cell_type": "code",
      "source": [
        "torch.cuda.empty_cache()\n",
        "gc.collect()"
      ],
      "metadata": {
        "colab": {
          "base_uri": "https://localhost:8080/"
        },
        "id": "LSusluJ-2oGn",
        "outputId": "e2729dd3-5480-4047-9482-61920b0f1051"
      },
      "execution_count": null,
      "outputs": [
        {
          "output_type": "execute_result",
          "data": {
            "text/plain": [
              "49"
            ]
          },
          "metadata": {},
          "execution_count": 27
        }
      ]
    },
    {
      "cell_type": "code",
      "source": [
        "def hybrid_model_prediction(eegnet_model, charrnn_model, char2idx, word, subject_word_data, alpha, device):\n",
        "    \"\"\"\n",
        "    Passes a word's EEG data sequence to both EEGNet and Char-RNN models.\n",
        "\n",
        "    Parameters:\n",
        "    - eegnet_model: Pre-trained EEGNet model.\n",
        "    - charrnn_model: Pre-trained Char-RNN model.\n",
        "    - word: The word to process (e.g., 'because').\n",
        "    - subject_word_data: The EEG data for the subject (shape [word_length, 64, 250]).\n",
        "    - alpha: Weight for combining predictions.\n",
        "    - device: Device to use ('cpu' or 'cuda').\n",
        "\n",
        "    Returns:\n",
        "    - Predicted string based on EEGNet and Char-RNN combined predictions.\n",
        "    \"\"\"\n",
        "\n",
        "    # Ensure the word contains only letters\n",
        "    assert word.isalpha(), f\"The provided word '{word}' must contain only alphabetic characters.\"\n",
        "\n",
        "    # Ensure the word length is the same as the data length\n",
        "    assert len(word) == subject_word_data.shape[0], (\n",
        "        f\"The length of the word ({len(word)}) must match the first dimension of subject_word_data ({subject_word_data.shape[0]})\"\n",
        "    )\n",
        "\n",
        "    word = word.upper()\n",
        "    predicted_string = \"\"\n",
        "    charrnn_model.eval()\n",
        "\n",
        "    # Prepare EEGNet predictions\n",
        "    eegnet_inputs = np.expand_dims(subject_word_data, axis=-1)  # Shape: [word_length, 64, 250, 1]\n",
        "    eegnet_preds_np = eegnet_model(eegnet_inputs).numpy()[:, :26]  # EEGNet predictions for all characters (remove non-alphabetic characters)\n",
        "    eegnet_preds_torch = torch.tensor(eegnet_preds_np, dtype=torch.float32).to(device)\n",
        "\n",
        "    for i in range(len(word)):\n",
        "        if i == 0:  # For the first character, there are no prior predictions from Char-RNN\n",
        "            charrnn_preds = torch.zeros((1, 26), dtype=torch.float32).to(device)\n",
        "        else: # Generate Char-RNN input from the current predicted string\n",
        "            input_tensor = torch.tensor([char2idx[ch] for ch in predicted_string], dtype=torch.long).unsqueeze(0).to(device)\n",
        "            charrnn_logits, _ = charrnn_model(input_tensor)\n",
        "            charrnn_preds = F.softmax(charrnn_logits[:, -1, :], dim=-1)[:, :26]  # Take prediction for the next character, also remove the index for space\n",
        "\n",
        "        # Combine predictions from EEGNet and Char-RNN\n",
        "        combined_preds = alpha * eegnet_preds_torch[i] + (1 - alpha) * charrnn_preds\n",
        "\n",
        "        # Get the predicted character\n",
        "        predicted_class = torch.argmax(combined_preds, dim=-1).item()\n",
        "        predicted_char = chr(predicted_class + ord('A'))\n",
        "\n",
        "        # Append to the predicted string\n",
        "        predicted_string += predicted_char\n",
        "\n",
        "    return predicted_string\n"
      ],
      "metadata": {
        "id": "k8tlA0mRlmdY"
      },
      "execution_count": null,
      "outputs": []
    },
    {
      "cell_type": "code",
      "source": [
        "def evaluate_wordset_accuracy(subject_words_dir, wordset, eegnet_model, charrnn_model, char2idx, alpha, device):\n",
        "    \"\"\"\n",
        "    Evaluate the accuracy of the hybrid model on a specific wordset.\n",
        "\n",
        "    Parameters:\n",
        "    - subject_words_dir: Directory containing subject word files.\n",
        "    - wordset: Wordset identifier (e.g., \"commonwords\").\n",
        "    - eegnet_model: Pretrained EEGNet model.\n",
        "    - charrnn_model: Pretrained Char-RNN model.\n",
        "    - char2idx: Mapping of characters to indices for the Char-RNN.\n",
        "    - alpha: Weight for the EEGNet model in hybrid prediction.\n",
        "    - device: Device (CPU or GPU) for computation.\n",
        "\n",
        "    Returns:\n",
        "    - average_accuracy: Average accuracy across all subjects.\n",
        "    \"\"\"\n",
        "    # Identify relevant files\n",
        "    all_subject_files = [f for f in os.listdir(subject_words_dir) if f.endswith(f'{wordset}.npy')]\n",
        "\n",
        "    total_accuracy = 0\n",
        "    num_words_total = 0\n",
        "\n",
        "    for subject_file in all_subject_files:\n",
        "        subject_total_accuracy = 0\n",
        "        num_words_subject = 0\n",
        "\n",
        "        # Load the subject's word data\n",
        "        subject_words = np.load(os.path.join(subject_words_dir, subject_file), allow_pickle=True).item()\n",
        "        subject_words = {key.upper(): value for key, value in subject_words.items()} # Convert all characters to uppercase, NOT REDUNDANT\n",
        "\n",
        "        # Evaluate each word\n",
        "        for target_word, target_data in subject_words.items():\n",
        "            result = hybrid_model_prediction(\n",
        "                eegnet_model=eegnet_model,\n",
        "                charrnn_model=charrnn_model,\n",
        "                char2idx=char2idx,\n",
        "                word=target_word,\n",
        "                subject_word_data=target_data,\n",
        "                alpha=alpha,\n",
        "                device=device\n",
        "            )\n",
        "\n",
        "            correct_chars = sum(1 for t, r in zip(target_word, result) if t == r)\n",
        "            accuracy = correct_chars / len(target_word)\n",
        "\n",
        "            subject_total_accuracy += accuracy\n",
        "            num_words_subject += 1\n",
        "\n",
        "            #break\n",
        "\n",
        "        # Calculate subject-specific accuracy\n",
        "        subject_accuracy = subject_total_accuracy / num_words_subject if num_words_subject > 0 else 0\n",
        "        #print(f\"Subject '{subject_file}' Accuracy: {subject_accuracy:.4f}\")\n",
        "        if subject_file.startswith(\"S1_\"): # These are two unseen subjects, good for testing\n",
        "            print(f\"Unseen Subject 1 Accuracy: {subject_accuracy:.4f}\")\n",
        "            s1_accuracy = subject_accuracy\n",
        "        elif subject_file.startswith(\"S9_\"):\n",
        "            print(f\"Unseen Subject 9 Accuracy: {subject_accuracy:.4f}\")\n",
        "            s9_accuracy = subject_accuracy\n",
        "\n",
        "        # Accumulate total accuracy\n",
        "        total_accuracy += subject_total_accuracy\n",
        "        num_words_total += num_words_subject\n",
        "\n",
        "        #break\n",
        "\n",
        "    # Calculate overall average accuracy\n",
        "    unseen_accuracy = (s1_accuracy + s9_accuracy)/2\n",
        "    average_accuracy = total_accuracy / num_words_total if num_words_total > 0 else 0\n",
        "    print(\"=\" * 30)\n",
        "    print(f\"Average Accuracy of Unseen Subjects: {unseen_accuracy:.4f}\")\n",
        "    print(f\"Total Average Accuracy Across All Subjects: {average_accuracy:.4f}\")\n",
        "\n",
        "    return average_accuracy\n"
      ],
      "metadata": {
        "id": "4j5LkaQeU4-X"
      },
      "execution_count": null,
      "outputs": []
    },
    {
      "cell_type": "markdown",
      "source": [
        "## Dataset = Top 100 most common English words\n",
        "\n",
        "Takes ~1 min to evaluate."
      ],
      "metadata": {
        "id": "U8vcsAIkJJtf"
      }
    },
    {
      "cell_type": "code",
      "source": [
        "# ALPHA = 1 SO ONLY EEGNET, DATASET = COMMON WORDS\n",
        "wordset = \"commonwords\"\n",
        "alpha = 1\n",
        "\n",
        "# Call the evaluation function\n",
        "average_accuracy = evaluate_wordset_accuracy(\n",
        "    subject_words_dir=subject_words_dir,\n",
        "    wordset=wordset,\n",
        "    eegnet_model=eegnet_model,\n",
        "    charrnn_model=charrnn_model,\n",
        "    char2idx=char2idx,\n",
        "    alpha=alpha,\n",
        "    device=device\n",
        ")"
      ],
      "metadata": {
        "colab": {
          "base_uri": "https://localhost:8080/"
        },
        "id": "nUGj2HsZiHos",
        "outputId": "a6ef5958-d856-4af6-8dfb-a4cae8e7fe60"
      },
      "execution_count": null,
      "outputs": [
        {
          "output_type": "stream",
          "name": "stdout",
          "text": [
            "Unseen Subject 1 Accuracy: 0.8891\n",
            "Unseen Subject 9 Accuracy: 0.8301\n",
            "==============================\n",
            "Average Accuracy of Unseen Subjects: 0.8596\n",
            "Total Average Accuracy Across All Subjects: 0.9461\n"
          ]
        }
      ]
    },
    {
      "cell_type": "code",
      "source": [
        "# ALPHA = 0.95, DATASET = COMMON WORDS\n",
        "wordset = \"commonwords\"\n",
        "alpha = 0.95\n",
        "\n",
        "# Call the evaluation function\n",
        "average_accuracy = evaluate_wordset_accuracy(\n",
        "    subject_words_dir=subject_words_dir,\n",
        "    wordset=wordset,\n",
        "    eegnet_model=eegnet_model,\n",
        "    charrnn_model=charrnn_model,\n",
        "    char2idx=char2idx,\n",
        "    alpha=alpha,\n",
        "    device=device\n",
        ")"
      ],
      "metadata": {
        "colab": {
          "base_uri": "https://localhost:8080/"
        },
        "id": "v1-4M-nINvts",
        "outputId": "62375425-a280-4a25-eb7b-89f49ad7d8e7"
      },
      "execution_count": null,
      "outputs": [
        {
          "output_type": "stream",
          "name": "stdout",
          "text": [
            "Unseen Subject 1 Accuracy: 0.8907\n",
            "Unseen Subject 9 Accuracy: 0.8301\n",
            "==============================\n",
            "Average Accuracy of Unseen Subjects: 0.8604\n",
            "Total Average Accuracy Across All Subjects: 0.9493\n"
          ]
        }
      ]
    },
    {
      "cell_type": "code",
      "source": [
        "# ALPHA = 0.9, DATASET = COMMON WORDS\n",
        "wordset = \"commonwords\"\n",
        "alpha = 0.9\n",
        "\n",
        "# Call the evaluation function\n",
        "average_accuracy = evaluate_wordset_accuracy(\n",
        "    subject_words_dir=subject_words_dir,\n",
        "    wordset=wordset,\n",
        "    eegnet_model=eegnet_model,\n",
        "    charrnn_model=charrnn_model,\n",
        "    char2idx=char2idx,\n",
        "    alpha=alpha,\n",
        "    device=device\n",
        ")"
      ],
      "metadata": {
        "colab": {
          "base_uri": "https://localhost:8080/"
        },
        "id": "4xL45s0xC4rl",
        "outputId": "92479422-6328-42c6-e8dc-5a5d484ebbbf"
      },
      "execution_count": null,
      "outputs": [
        {
          "output_type": "stream",
          "name": "stdout",
          "text": [
            "Unseen Subject 1 Accuracy: 0.8992\n",
            "Unseen Subject 9 Accuracy: 0.8353\n",
            "==============================\n",
            "Average Accuracy of Unseen Subjects: 0.8672\n",
            "Total Average Accuracy Across All Subjects: 0.9511\n"
          ]
        }
      ]
    },
    {
      "cell_type": "code",
      "source": [
        "# ALPHA = 0.85, DATASET = COMMON WORDS\n",
        "wordset = \"commonwords\"\n",
        "alpha = 0.85\n",
        "\n",
        "# Call the evaluation function\n",
        "average_accuracy = evaluate_wordset_accuracy(\n",
        "    subject_words_dir=subject_words_dir,\n",
        "    wordset=wordset,\n",
        "    eegnet_model=eegnet_model,\n",
        "    charrnn_model=charrnn_model,\n",
        "    char2idx=char2idx,\n",
        "    alpha=alpha,\n",
        "    device=device\n",
        ")"
      ],
      "metadata": {
        "colab": {
          "base_uri": "https://localhost:8080/"
        },
        "id": "AL_BDehpE82K",
        "outputId": "45b6ea06-f37c-4887-84ed-b8705374837b"
      },
      "execution_count": null,
      "outputs": [
        {
          "output_type": "stream",
          "name": "stdout",
          "text": [
            "Unseen Subject 1 Accuracy: 0.8955\n",
            "Unseen Subject 9 Accuracy: 0.8319\n",
            "==============================\n",
            "Average Accuracy of Unseen Subjects: 0.8637\n",
            "Total Average Accuracy Across All Subjects: 0.9514\n"
          ]
        }
      ]
    },
    {
      "cell_type": "code",
      "source": [
        "# ALPHA = 0.825, DATASET = COMMON WORDS\n",
        "wordset = \"commonwords\"\n",
        "alpha = 0.825\n",
        "\n",
        "# Call the evaluation function\n",
        "average_accuracy = evaluate_wordset_accuracy(\n",
        "    subject_words_dir=subject_words_dir,\n",
        "    wordset=wordset,\n",
        "    eegnet_model=eegnet_model,\n",
        "    charrnn_model=charrnn_model,\n",
        "    char2idx=char2idx,\n",
        "    alpha=alpha,\n",
        "    device=device\n",
        ")"
      ],
      "metadata": {
        "colab": {
          "base_uri": "https://localhost:8080/"
        },
        "id": "6kQ-BVHSPJge",
        "outputId": "ce33816b-c677-4777-f7b2-4e20e000f1a9"
      },
      "execution_count": null,
      "outputs": [
        {
          "output_type": "stream",
          "name": "stdout",
          "text": [
            "Unseen Subject 1 Accuracy: 0.9038\n",
            "Unseen Subject 9 Accuracy: 0.8310\n",
            "==============================\n",
            "Average Accuracy of Unseen Subjects: 0.8674\n",
            "Total Average Accuracy Across All Subjects: 0.9521\n"
          ]
        }
      ]
    },
    {
      "cell_type": "code",
      "source": [
        "# ALPHA = 0.8, DATASET = COMMON WORDS\n",
        "wordset = \"commonwords\"\n",
        "alpha = 0.8\n",
        "\n",
        "# Call the evaluation function\n",
        "average_accuracy = evaluate_wordset_accuracy(\n",
        "    subject_words_dir=subject_words_dir,\n",
        "    wordset=wordset,\n",
        "    eegnet_model=eegnet_model,\n",
        "    charrnn_model=charrnn_model,\n",
        "    char2idx=char2idx,\n",
        "    alpha=alpha,\n",
        "    device=device\n",
        ")"
      ],
      "metadata": {
        "colab": {
          "base_uri": "https://localhost:8080/"
        },
        "id": "dbk8-DdxDJ_Y",
        "outputId": "07e53d02-b533-4211-9317-f48c41159b36"
      },
      "execution_count": null,
      "outputs": [
        {
          "output_type": "stream",
          "name": "stdout",
          "text": [
            "Unseen Subject 1 Accuracy: 0.9030\n",
            "Unseen Subject 9 Accuracy: 0.8310\n",
            "==============================\n",
            "Average Accuracy of Unseen Subjects: 0.8670\n",
            "Total Average Accuracy Across All Subjects: 0.9520\n"
          ]
        }
      ]
    },
    {
      "cell_type": "code",
      "source": [
        "# ALPHA = 0.775, DATASET = COMMON WORDS\n",
        "wordset = \"commonwords\"\n",
        "alpha = 0.775\n",
        "\n",
        "# Call the evaluation function\n",
        "average_accuracy = evaluate_wordset_accuracy(\n",
        "    subject_words_dir=subject_words_dir,\n",
        "    wordset=wordset,\n",
        "    eegnet_model=eegnet_model,\n",
        "    charrnn_model=charrnn_model,\n",
        "    char2idx=char2idx,\n",
        "    alpha=alpha,\n",
        "    device=device\n",
        ")"
      ],
      "metadata": {
        "colab": {
          "base_uri": "https://localhost:8080/"
        },
        "id": "q3xbwaYLPOOo",
        "outputId": "bf8346f3-72c3-4379-e4b1-ca7df62dbf4f"
      },
      "execution_count": null,
      "outputs": [
        {
          "output_type": "stream",
          "name": "stdout",
          "text": [
            "Unseen Subject 1 Accuracy: 0.9038\n",
            "Unseen Subject 9 Accuracy: 0.8277\n",
            "==============================\n",
            "Average Accuracy of Unseen Subjects: 0.8658\n",
            "Total Average Accuracy Across All Subjects: 0.9513\n"
          ]
        }
      ]
    },
    {
      "cell_type": "code",
      "source": [
        "# ALPHA = 0.75, DATASET = COMMON WORDS\n",
        "wordset = \"commonwords\"\n",
        "alpha = 0.75\n",
        "\n",
        "# Call the evaluation function\n",
        "average_accuracy = evaluate_wordset_accuracy(\n",
        "    subject_words_dir=subject_words_dir,\n",
        "    wordset=wordset,\n",
        "    eegnet_model=eegnet_model,\n",
        "    charrnn_model=charrnn_model,\n",
        "    char2idx=char2idx,\n",
        "    alpha=alpha,\n",
        "    device=device\n",
        ")"
      ],
      "metadata": {
        "colab": {
          "base_uri": "https://localhost:8080/"
        },
        "id": "ue4N5YAME-eM",
        "outputId": "67559b7f-dbbc-45f9-9c1b-b02b5472da15"
      },
      "execution_count": null,
      "outputs": [
        {
          "output_type": "stream",
          "name": "stdout",
          "text": [
            "Unseen Subject 1 Accuracy: 0.9038\n",
            "Unseen Subject 9 Accuracy: 0.8277\n",
            "==============================\n",
            "Average Accuracy of Unseen Subjects: 0.8658\n",
            "Total Average Accuracy Across All Subjects: 0.9517\n"
          ]
        }
      ]
    },
    {
      "cell_type": "code",
      "source": [
        "# ALPHA = 0.725, DATASET = COMMON WORDS\n",
        "wordset = \"commonwords\"\n",
        "alpha = 0.725\n",
        "\n",
        "# Call the evaluation function\n",
        "average_accuracy = evaluate_wordset_accuracy(\n",
        "    subject_words_dir=subject_words_dir,\n",
        "    wordset=wordset,\n",
        "    eegnet_model=eegnet_model,\n",
        "    charrnn_model=charrnn_model,\n",
        "    char2idx=char2idx,\n",
        "    alpha=alpha,\n",
        "    device=device\n",
        ")"
      ],
      "metadata": {
        "colab": {
          "base_uri": "https://localhost:8080/"
        },
        "id": "UurCIPvQMq_g",
        "outputId": "7597df38-190c-402b-d8a4-a7510d17a8fe"
      },
      "execution_count": null,
      "outputs": [
        {
          "output_type": "stream",
          "name": "stdout",
          "text": [
            "Unseen Subject 1 Accuracy: 0.9038\n",
            "Unseen Subject 9 Accuracy: 0.8268\n",
            "==============================\n",
            "Average Accuracy of Unseen Subjects: 0.8653\n",
            "Total Average Accuracy Across All Subjects: 0.9513\n"
          ]
        }
      ]
    },
    {
      "cell_type": "code",
      "source": [
        "# ALPHA = 0.7, DATASET = COMMON WORDS\n",
        "wordset = \"commonwords\"\n",
        "alpha = 0.7\n",
        "\n",
        "# Call the evaluation function\n",
        "average_accuracy = evaluate_wordset_accuracy(\n",
        "    subject_words_dir=subject_words_dir,\n",
        "    wordset=wordset,\n",
        "    eegnet_model=eegnet_model,\n",
        "    charrnn_model=charrnn_model,\n",
        "    char2idx=char2idx,\n",
        "    alpha=alpha,\n",
        "    device=device\n",
        ")"
      ],
      "metadata": {
        "colab": {
          "base_uri": "https://localhost:8080/"
        },
        "id": "G8PuQHhhG2z1",
        "outputId": "adaacf45-a3dd-405a-97ce-c2f84fb8d15f"
      },
      "execution_count": null,
      "outputs": [
        {
          "output_type": "stream",
          "name": "stdout",
          "text": [
            "Unseen Subject 1 Accuracy: 0.9038\n",
            "Unseen Subject 9 Accuracy: 0.8243\n",
            "==============================\n",
            "Average Accuracy of Unseen Subjects: 0.8640\n",
            "Total Average Accuracy Across All Subjects: 0.9514\n"
          ]
        }
      ]
    },
    {
      "cell_type": "code",
      "source": [
        "# ALPHA = 0.675, DATASET = COMMON WORDS\n",
        "wordset = \"commonwords\"\n",
        "alpha = 0.675\n",
        "\n",
        "# Call the evaluation function\n",
        "average_accuracy = evaluate_wordset_accuracy(\n",
        "    subject_words_dir=subject_words_dir,\n",
        "    wordset=wordset,\n",
        "    eegnet_model=eegnet_model,\n",
        "    charrnn_model=charrnn_model,\n",
        "    char2idx=char2idx,\n",
        "    alpha=alpha,\n",
        "    device=device\n",
        ")"
      ],
      "metadata": {
        "colab": {
          "base_uri": "https://localhost:8080/"
        },
        "id": "mNFcqvB0MvUS",
        "outputId": "85d125cd-97f4-46aa-fc9c-7be7a5e0346f"
      },
      "execution_count": null,
      "outputs": [
        {
          "output_type": "stream",
          "name": "stdout",
          "text": [
            "Unseen Subject 1 Accuracy: 0.9063\n",
            "Unseen Subject 9 Accuracy: 0.8288\n",
            "==============================\n",
            "Average Accuracy of Unseen Subjects: 0.8675\n",
            "Total Average Accuracy Across All Subjects: 0.9510\n"
          ]
        }
      ]
    },
    {
      "cell_type": "code",
      "source": [
        "# ALPHA = 0.65, DATASET = COMMON WORDS\n",
        "wordset = \"commonwords\"\n",
        "alpha = 0.65\n",
        "\n",
        "# Call the evaluation function\n",
        "average_accuracy = evaluate_wordset_accuracy(\n",
        "    subject_words_dir=subject_words_dir,\n",
        "    wordset=wordset,\n",
        "    eegnet_model=eegnet_model,\n",
        "    charrnn_model=charrnn_model,\n",
        "    char2idx=char2idx,\n",
        "    alpha=alpha,\n",
        "    device=device\n",
        ")"
      ],
      "metadata": {
        "colab": {
          "base_uri": "https://localhost:8080/"
        },
        "id": "uMKKX5cWAK8H",
        "outputId": "50b5906d-b0fb-457c-ddec-1994ae8e0962"
      },
      "execution_count": null,
      "outputs": [
        {
          "output_type": "stream",
          "name": "stdout",
          "text": [
            "Unseen Subject 1 Accuracy: 0.9055\n",
            "Unseen Subject 9 Accuracy: 0.8308\n",
            "==============================\n",
            "Average Accuracy of Unseen Subjects: 0.8681\n",
            "Total Average Accuracy Across All Subjects: 0.9508\n"
          ]
        }
      ]
    },
    {
      "cell_type": "code",
      "source": [
        "# ALPHA = 0.6, DATASET = COMMON WORDS\n",
        "wordset = \"commonwords\"\n",
        "alpha = 0.6\n",
        "\n",
        "# Call the evaluation function\n",
        "average_accuracy = evaluate_wordset_accuracy(\n",
        "    subject_words_dir=subject_words_dir,\n",
        "    wordset=wordset,\n",
        "    eegnet_model=eegnet_model,\n",
        "    charrnn_model=charrnn_model,\n",
        "    char2idx=char2idx,\n",
        "    alpha=alpha,\n",
        "    device=device\n",
        ")"
      ],
      "metadata": {
        "colab": {
          "base_uri": "https://localhost:8080/"
        },
        "id": "EMTajVI-Hr46",
        "outputId": "5bf6e638-17a6-4a8d-a6f1-4f51afd62b8c"
      },
      "execution_count": null,
      "outputs": [
        {
          "output_type": "stream",
          "name": "stdout",
          "text": [
            "Unseen Subject 1 Accuracy: 0.9022\n",
            "Unseen Subject 9 Accuracy: 0.8342\n",
            "==============================\n",
            "Average Accuracy of Unseen Subjects: 0.8682\n",
            "Total Average Accuracy Across All Subjects: 0.9486\n"
          ]
        }
      ]
    },
    {
      "cell_type": "code",
      "source": [
        "# ALPHA = 0.5, DATASET = COMMON WORDS\n",
        "wordset = \"commonwords\"\n",
        "alpha = 0.5\n",
        "\n",
        "# Call the evaluation function\n",
        "average_accuracy = evaluate_wordset_accuracy(\n",
        "    subject_words_dir=subject_words_dir,\n",
        "    wordset=wordset,\n",
        "    eegnet_model=eegnet_model,\n",
        "    charrnn_model=charrnn_model,\n",
        "    char2idx=char2idx,\n",
        "    alpha=alpha,\n",
        "    device=device\n",
        ")"
      ],
      "metadata": {
        "colab": {
          "base_uri": "https://localhost:8080/"
        },
        "id": "YfCx7C3pPVoz",
        "outputId": "e6e9ff04-236a-46e9-f5e9-011be186154f"
      },
      "execution_count": null,
      "outputs": [
        {
          "output_type": "stream",
          "name": "stdout",
          "text": [
            "Unseen Subject 1 Accuracy: 0.8796\n",
            "Unseen Subject 9 Accuracy: 0.8204\n",
            "==============================\n",
            "Average Accuracy of Unseen Subjects: 0.8500\n",
            "Total Average Accuracy Across All Subjects: 0.9418\n"
          ]
        }
      ]
    },
    {
      "cell_type": "markdown",
      "source": [
        "## Dataset = Top 100 most common English words that are at least 7 letters long"
      ],
      "metadata": {
        "id": "N-QEe4qbG3UB"
      }
    },
    {
      "cell_type": "code",
      "source": [
        "# ALPHA = 1 SO ONLY EEGNET, DATASET = LONG WORDS\n",
        "wordset = \"longwords\"\n",
        "alpha = 1\n",
        "\n",
        "# Call the evaluation function\n",
        "average_accuracy = evaluate_wordset_accuracy(\n",
        "    subject_words_dir=subject_words_dir,\n",
        "    wordset=wordset,\n",
        "    eegnet_model=eegnet_model,\n",
        "    charrnn_model=charrnn_model,\n",
        "    char2idx=char2idx,\n",
        "    alpha=alpha,\n",
        "    device=device\n",
        ")"
      ],
      "metadata": {
        "colab": {
          "base_uri": "https://localhost:8080/"
        },
        "id": "E9XrouhUFWoK",
        "outputId": "7ccfeaa7-e314-408b-ee99-9bb2e27dcb16"
      },
      "execution_count": null,
      "outputs": [
        {
          "output_type": "stream",
          "name": "stdout",
          "text": [
            "Unseen Subject 1 Accuracy: 0.8772\n",
            "Unseen Subject 9 Accuracy: 0.8580\n",
            "==============================\n",
            "Average Accuracy of Unseen Subjects: 0.8676\n",
            "Total Average Accuracy Across All Subjects: 0.9507\n"
          ]
        }
      ]
    },
    {
      "cell_type": "code",
      "source": [
        "# ALPHA = 0.95, DATASET = LONG WORDS\n",
        "wordset = \"longwords\"\n",
        "alpha = 0.95\n",
        "\n",
        "# Call the evaluation function\n",
        "average_accuracy = evaluate_wordset_accuracy(\n",
        "    subject_words_dir=subject_words_dir,\n",
        "    wordset=wordset,\n",
        "    eegnet_model=eegnet_model,\n",
        "    charrnn_model=charrnn_model,\n",
        "    char2idx=char2idx,\n",
        "    alpha=alpha,\n",
        "    device=device\n",
        ")"
      ],
      "metadata": {
        "colab": {
          "base_uri": "https://localhost:8080/"
        },
        "id": "ybRdRwOcOA0Y",
        "outputId": "6cfc05a8-9553-4f27-bf33-459f270c7252"
      },
      "execution_count": null,
      "outputs": [
        {
          "output_type": "stream",
          "name": "stdout",
          "text": [
            "Unseen Subject 1 Accuracy: 0.8834\n",
            "Unseen Subject 9 Accuracy: 0.8621\n",
            "==============================\n",
            "Average Accuracy of Unseen Subjects: 0.8727\n",
            "Total Average Accuracy Across All Subjects: 0.9561\n"
          ]
        }
      ]
    },
    {
      "cell_type": "code",
      "source": [
        "# ALPHA = 0.9, DATASET = LONG WORDS\n",
        "wordset = \"longwords\"\n",
        "alpha = 0.9\n",
        "\n",
        "# Call the evaluation function\n",
        "average_accuracy = evaluate_wordset_accuracy(\n",
        "    subject_words_dir=subject_words_dir,\n",
        "    wordset=wordset,\n",
        "    eegnet_model=eegnet_model,\n",
        "    charrnn_model=charrnn_model,\n",
        "    char2idx=char2idx,\n",
        "    alpha=alpha,\n",
        "    device=device\n",
        ")"
      ],
      "metadata": {
        "colab": {
          "base_uri": "https://localhost:8080/"
        },
        "id": "GzAIGT5cFj_r",
        "outputId": "d02d113a-d04a-475f-e419-33ed66b05a7c"
      },
      "execution_count": null,
      "outputs": [
        {
          "output_type": "stream",
          "name": "stdout",
          "text": [
            "Unseen Subject 1 Accuracy: 0.8909\n",
            "Unseen Subject 9 Accuracy: 0.8619\n",
            "==============================\n",
            "Average Accuracy of Unseen Subjects: 0.8764\n",
            "Total Average Accuracy Across All Subjects: 0.9587\n"
          ]
        }
      ]
    },
    {
      "cell_type": "code",
      "source": [
        "# ALPHA = 0.85, DATASET = LONG WORDS\n",
        "wordset = \"longwords\"\n",
        "alpha = 0.85\n",
        "\n",
        "# Call the evaluation function\n",
        "average_accuracy = evaluate_wordset_accuracy(\n",
        "    subject_words_dir=subject_words_dir,\n",
        "    wordset=wordset,\n",
        "    eegnet_model=eegnet_model,\n",
        "    charrnn_model=charrnn_model,\n",
        "    char2idx=char2idx,\n",
        "    alpha=alpha,\n",
        "    device=device\n",
        ")"
      ],
      "metadata": {
        "colab": {
          "base_uri": "https://localhost:8080/"
        },
        "id": "6_LpHRP6FDIE",
        "outputId": "bac6729f-8e75-497f-cdbf-b28777c42578"
      },
      "execution_count": null,
      "outputs": [
        {
          "output_type": "stream",
          "name": "stdout",
          "text": [
            "Unseen Subject 1 Accuracy: 0.8951\n",
            "Unseen Subject 9 Accuracy: 0.8707\n",
            "==============================\n",
            "Average Accuracy of Unseen Subjects: 0.8829\n",
            "Total Average Accuracy Across All Subjects: 0.9606\n"
          ]
        }
      ]
    },
    {
      "cell_type": "code",
      "source": [
        "# ALPHA = 0.825, DATASET = LONG WORDS\n",
        "wordset = \"longwords\"\n",
        "alpha = 0.825\n",
        "\n",
        "# Call the evaluation function\n",
        "average_accuracy = evaluate_wordset_accuracy(\n",
        "    subject_words_dir=subject_words_dir,\n",
        "    wordset=wordset,\n",
        "    eegnet_model=eegnet_model,\n",
        "    charrnn_model=charrnn_model,\n",
        "    char2idx=char2idx,\n",
        "    alpha=alpha,\n",
        "    device=device\n",
        ")"
      ],
      "metadata": {
        "colab": {
          "base_uri": "https://localhost:8080/"
        },
        "id": "iKGu7307M4ao",
        "outputId": "09c43c39-d892-4cdb-bb4d-0eac934a95b1"
      },
      "execution_count": null,
      "outputs": [
        {
          "output_type": "stream",
          "name": "stdout",
          "text": [
            "Unseen Subject 1 Accuracy: 0.8976\n",
            "Unseen Subject 9 Accuracy: 0.8693\n",
            "==============================\n",
            "Average Accuracy of Unseen Subjects: 0.8834\n",
            "Total Average Accuracy Across All Subjects: 0.9612\n"
          ]
        }
      ]
    },
    {
      "cell_type": "code",
      "source": [
        "# ALPHA = 0.8, DATASET = LONG WORDS\n",
        "wordset = \"longwords\"\n",
        "alpha = 0.8\n",
        "\n",
        "# Call the evaluation function\n",
        "average_accuracy = evaluate_wordset_accuracy(\n",
        "    subject_words_dir=subject_words_dir,\n",
        "    wordset=wordset,\n",
        "    eegnet_model=eegnet_model,\n",
        "    charrnn_model=charrnn_model,\n",
        "    char2idx=char2idx,\n",
        "    alpha=alpha,\n",
        "    device=device\n",
        ")"
      ],
      "metadata": {
        "colab": {
          "base_uri": "https://localhost:8080/"
        },
        "id": "3QHS0aGcGNBw",
        "outputId": "4bbf6f36-71bb-4438-d224-6f389fc8e4c3"
      },
      "execution_count": null,
      "outputs": [
        {
          "output_type": "stream",
          "name": "stdout",
          "text": [
            "Unseen Subject 1 Accuracy: 0.9058\n",
            "Unseen Subject 9 Accuracy: 0.8754\n",
            "==============================\n",
            "Average Accuracy of Unseen Subjects: 0.8906\n",
            "Total Average Accuracy Across All Subjects: 0.9623\n"
          ]
        }
      ]
    },
    {
      "cell_type": "code",
      "source": [
        "# ALPHA = 0.775, DATASET = LONG WORDS\n",
        "wordset = \"longwords\"\n",
        "alpha = 0.755\n",
        "\n",
        "# Call the evaluation function\n",
        "average_accuracy = evaluate_wordset_accuracy(\n",
        "    subject_words_dir=subject_words_dir,\n",
        "    wordset=wordset,\n",
        "    eegnet_model=eegnet_model,\n",
        "    charrnn_model=charrnn_model,\n",
        "    char2idx=char2idx,\n",
        "    alpha=alpha,\n",
        "    device=device\n",
        ")"
      ],
      "metadata": {
        "colab": {
          "base_uri": "https://localhost:8080/"
        },
        "id": "P70BG8VDxLU9",
        "outputId": "75bb5823-3bd4-4f70-9049-62b8e0d477ec"
      },
      "execution_count": null,
      "outputs": [
        {
          "output_type": "stream",
          "name": "stdout",
          "text": [
            "Unseen Subject 1 Accuracy: 0.9115\n",
            "Unseen Subject 9 Accuracy: 0.8800\n",
            "==============================\n",
            "Average Accuracy of Unseen Subjects: 0.8957\n",
            "Total Average Accuracy Across All Subjects: 0.9626\n"
          ]
        }
      ]
    },
    {
      "cell_type": "code",
      "source": [
        "# ALPHA = 0.75, DATASET = LONG WORDS\n",
        "wordset = \"longwords\"\n",
        "alpha = 0.75\n",
        "\n",
        "# Call the evaluation function\n",
        "average_accuracy = evaluate_wordset_accuracy(\n",
        "    subject_words_dir=subject_words_dir,\n",
        "    wordset=wordset,\n",
        "    eegnet_model=eegnet_model,\n",
        "    charrnn_model=charrnn_model,\n",
        "    char2idx=char2idx,\n",
        "    alpha=alpha,\n",
        "    device=device\n",
        ")"
      ],
      "metadata": {
        "colab": {
          "base_uri": "https://localhost:8080/"
        },
        "id": "B4w9UCOeFEs2",
        "outputId": "50df8766-b759-4cd3-88eb-29a7d4894e08"
      },
      "execution_count": null,
      "outputs": [
        {
          "output_type": "stream",
          "name": "stdout",
          "text": [
            "Unseen Subject 1 Accuracy: 0.9115\n",
            "Unseen Subject 9 Accuracy: 0.8800\n",
            "==============================\n",
            "Average Accuracy of Unseen Subjects: 0.8957\n",
            "Total Average Accuracy Across All Subjects: 0.9626\n"
          ]
        }
      ]
    },
    {
      "cell_type": "code",
      "source": [
        "# ALPHA = 0.725, DATASET = LONG WORDS\n",
        "wordset = \"longwords\"\n",
        "alpha = 0.725\n",
        "\n",
        "# Call the evaluation function\n",
        "average_accuracy = evaluate_wordset_accuracy(\n",
        "    subject_words_dir=subject_words_dir,\n",
        "    wordset=wordset,\n",
        "    eegnet_model=eegnet_model,\n",
        "    charrnn_model=charrnn_model,\n",
        "    char2idx=char2idx,\n",
        "    alpha=alpha,\n",
        "    device=device\n",
        ")"
      ],
      "metadata": {
        "colab": {
          "base_uri": "https://localhost:8080/"
        },
        "id": "qASjbWGjxNFc",
        "outputId": "5f623f1f-831a-4848-bb9e-4fbd20d5e4e0"
      },
      "execution_count": null,
      "outputs": [
        {
          "output_type": "stream",
          "name": "stdout",
          "text": [
            "Unseen Subject 1 Accuracy: 0.9131\n",
            "Unseen Subject 9 Accuracy: 0.8800\n",
            "==============================\n",
            "Average Accuracy of Unseen Subjects: 0.8966\n",
            "Total Average Accuracy Across All Subjects: 0.9626\n"
          ]
        }
      ]
    },
    {
      "cell_type": "code",
      "source": [
        "# ALPHA = 0.7, DATASET = LONG WORDS\n",
        "dataset = \"longwords\"\n",
        "alpha = 0.7\n",
        "\n",
        "# Call the evaluation function\n",
        "average_accuracy = evaluate_wordset_accuracy(\n",
        "    subject_words_dir=subject_words_dir,\n",
        "    wordset=wordset,\n",
        "    eegnet_model=eegnet_model,\n",
        "    charrnn_model=charrnn_model,\n",
        "    char2idx=char2idx,\n",
        "    alpha=alpha,\n",
        "    device=device\n",
        ")"
      ],
      "metadata": {
        "colab": {
          "base_uri": "https://localhost:8080/"
        },
        "id": "2XNIw7c1HaP2",
        "outputId": "c348ecad-a1bd-4860-c213-9e51bf855118"
      },
      "execution_count": null,
      "outputs": [
        {
          "output_type": "stream",
          "name": "stdout",
          "text": [
            "Unseen Subject 1 Accuracy: 0.9146\n",
            "Unseen Subject 9 Accuracy: 0.8722\n",
            "==============================\n",
            "Average Accuracy of Unseen Subjects: 0.8934\n",
            "Total Average Accuracy Across All Subjects: 0.9624\n"
          ]
        }
      ]
    },
    {
      "cell_type": "code",
      "source": [
        "# ALPHA = 0.675, DATASET = LONG WORDS\n",
        "wordset = \"longwords\"\n",
        "alpha = 0.675\n",
        "\n",
        "# Call the evaluation function\n",
        "average_accuracy = evaluate_wordset_accuracy(\n",
        "    subject_words_dir=subject_words_dir,\n",
        "    wordset=wordset,\n",
        "    eegnet_model=eegnet_model,\n",
        "    charrnn_model=charrnn_model,\n",
        "    char2idx=char2idx,\n",
        "    alpha=alpha,\n",
        "    device=device\n",
        ")"
      ],
      "metadata": {
        "colab": {
          "base_uri": "https://localhost:8080/"
        },
        "id": "B2V_VpDvM7Iu",
        "outputId": "6a2f4b65-1a66-468f-e7b1-b1f16c9faf91"
      },
      "execution_count": null,
      "outputs": [
        {
          "output_type": "stream",
          "name": "stdout",
          "text": [
            "Unseen Subject 1 Accuracy: 0.9228\n",
            "Unseen Subject 9 Accuracy: 0.8679\n",
            "==============================\n",
            "Average Accuracy of Unseen Subjects: 0.8954\n",
            "Total Average Accuracy Across All Subjects: 0.9618\n"
          ]
        }
      ]
    },
    {
      "cell_type": "code",
      "source": [
        "# ALPHA = 0.65, DATASET = LONG WORDS\n",
        "dataset = \"longwords\"\n",
        "alpha = 0.65\n",
        "\n",
        "# Call the evaluation function\n",
        "average_accuracy = evaluate_wordset_accuracy(\n",
        "    subject_words_dir=subject_words_dir,\n",
        "    wordset=wordset,\n",
        "    eegnet_model=eegnet_model,\n",
        "    charrnn_model=charrnn_model,\n",
        "    char2idx=char2idx,\n",
        "    alpha=alpha,\n",
        "    device=device\n",
        ")"
      ],
      "metadata": {
        "colab": {
          "base_uri": "https://localhost:8080/"
        },
        "id": "l93rewDrCkM4",
        "outputId": "4a7bb100-39ce-4cc9-8581-5488e36ed3e9"
      },
      "execution_count": null,
      "outputs": [
        {
          "output_type": "stream",
          "name": "stdout",
          "text": [
            "Unseen Subject 1 Accuracy: 0.9188\n",
            "Unseen Subject 9 Accuracy: 0.8655\n",
            "==============================\n",
            "Average Accuracy of Unseen Subjects: 0.8922\n",
            "Total Average Accuracy Across All Subjects: 0.9558\n"
          ]
        }
      ]
    },
    {
      "cell_type": "code",
      "source": [
        "# ALPHA = 0.6, DATASET = LONG WORDS\n",
        "dataset = \"longwords\"\n",
        "alpha = 0.6\n",
        "\n",
        "# Call the evaluation function\n",
        "average_accuracy = evaluate_wordset_accuracy(\n",
        "    subject_words_dir=subject_words_dir,\n",
        "    wordset=wordset,\n",
        "    eegnet_model=eegnet_model,\n",
        "    charrnn_model=charrnn_model,\n",
        "    char2idx=char2idx,\n",
        "    alpha=alpha,\n",
        "    device=device\n",
        ")"
      ],
      "metadata": {
        "colab": {
          "base_uri": "https://localhost:8080/"
        },
        "id": "W6PAy_LFUh5f",
        "outputId": "205469b5-2e20-460d-e526-1aebfaccd795"
      },
      "execution_count": null,
      "outputs": [
        {
          "output_type": "stream",
          "name": "stdout",
          "text": [
            "Unseen Subject 1 Accuracy: 0.9135\n",
            "Unseen Subject 9 Accuracy: 0.8570\n",
            "==============================\n",
            "Average Accuracy of Unseen Subjects: 0.8852\n",
            "Total Average Accuracy Across All Subjects: 0.9526\n"
          ]
        }
      ]
    },
    {
      "cell_type": "code",
      "source": [
        "# ALPHA = 0.5, DATASET = LONG WORDS\n",
        "dataset = \"longwords\"\n",
        "alpha = 0.5\n",
        "\n",
        "# Call the evaluation function\n",
        "average_accuracy = evaluate_wordset_accuracy(\n",
        "    subject_words_dir=subject_words_dir,\n",
        "    wordset=wordset,\n",
        "    eegnet_model=eegnet_model,\n",
        "    charrnn_model=charrnn_model,\n",
        "    char2idx=char2idx,\n",
        "    alpha=alpha,\n",
        "    device=device\n",
        ")"
      ],
      "metadata": {
        "colab": {
          "base_uri": "https://localhost:8080/"
        },
        "id": "gk_C_uVbUjVH",
        "outputId": "5ab2c120-604f-4f86-eeb5-6cb4b2ab892c"
      },
      "execution_count": null,
      "outputs": [
        {
          "output_type": "stream",
          "name": "stdout",
          "text": [
            "Unseen Subject 1 Accuracy: 0.8898\n",
            "Unseen Subject 9 Accuracy: 0.8289\n",
            "==============================\n",
            "Average Accuracy of Unseen Subjects: 0.8593\n",
            "Total Average Accuracy Across All Subjects: 0.9381\n"
          ]
        }
      ]
    },
    {
      "cell_type": "markdown",
      "source": [
        "## Dataset = Top 1000 most common English words"
      ],
      "metadata": {
        "id": "-Fzbduuf0T21"
      }
    },
    {
      "cell_type": "code",
      "source": [
        "# ALPHA = 1 SO ONLY EEGNET, DATASET = LOTSOFWORDS (1000 most common)\n",
        "wordset = \"lotsofwords\"\n",
        "alpha = 1\n",
        "\n",
        "# Call the evaluation function\n",
        "average_accuracy = evaluate_wordset_accuracy(\n",
        "    subject_words_dir=subject_words_dir,\n",
        "    wordset=wordset,\n",
        "    eegnet_model=eegnet_model,\n",
        "    charrnn_model=charrnn_model,\n",
        "    char2idx=char2idx,\n",
        "    alpha=alpha,\n",
        "    device=device\n",
        ")"
      ],
      "metadata": {
        "colab": {
          "base_uri": "https://localhost:8080/"
        },
        "id": "peTI8P0p0Wzr",
        "outputId": "061cd58a-9ffc-4d5b-c476-5d3d32ec634d"
      },
      "execution_count": null,
      "outputs": [
        {
          "output_type": "stream",
          "name": "stdout",
          "text": [
            "Unseen Subject 1 Accuracy: 0.8957\n",
            "Unseen Subject 9 Accuracy: 0.8539\n",
            "==============================\n",
            "Average Accuracy of Unseen Subjects: 0.8748\n",
            "Total Average Accuracy Across All Subjects: 0.9497\n"
          ]
        }
      ]
    },
    {
      "cell_type": "code",
      "source": [
        "# ALPHA = 0.95, DATASET = LOTSOFWORDS (1000 most common)\n",
        "wordset = \"lotsofwords\"\n",
        "alpha = 0.95\n",
        "\n",
        "# Call the evaluation function\n",
        "average_accuracy = evaluate_wordset_accuracy(\n",
        "    subject_words_dir=subject_words_dir,\n",
        "    wordset=wordset,\n",
        "    eegnet_model=eegnet_model,\n",
        "    charrnn_model=charrnn_model,\n",
        "    char2idx=char2idx,\n",
        "    alpha=alpha,\n",
        "    device=device\n",
        ")"
      ],
      "metadata": {
        "colab": {
          "base_uri": "https://localhost:8080/"
        },
        "id": "7CUtvtxiRNEq",
        "outputId": "b751d489-c0ba-4601-adfd-bb48850c4b91"
      },
      "execution_count": null,
      "outputs": [
        {
          "output_type": "stream",
          "name": "stdout",
          "text": [
            "Unseen Subject 1 Accuracy: 0.9021\n",
            "Unseen Subject 9 Accuracy: 0.8556\n",
            "==============================\n",
            "Average Accuracy of Unseen Subjects: 0.8788\n",
            "Total Average Accuracy Across All Subjects: 0.9532\n"
          ]
        }
      ]
    },
    {
      "cell_type": "code",
      "source": [
        "# ALPHA = 0.9, DATASET = LOTSOFWORDS (1000 most common)\n",
        "wordset = \"lotsofwords\"\n",
        "alpha = 0.9\n",
        "\n",
        "# Call the evaluation function\n",
        "average_accuracy = evaluate_wordset_accuracy(\n",
        "    subject_words_dir=subject_words_dir,\n",
        "    wordset=wordset,\n",
        "    eegnet_model=eegnet_model,\n",
        "    charrnn_model=charrnn_model,\n",
        "    char2idx=char2idx,\n",
        "    alpha=alpha,\n",
        "    device=device\n",
        ")"
      ],
      "metadata": {
        "colab": {
          "base_uri": "https://localhost:8080/"
        },
        "id": "GH41M9VJ0nMK",
        "outputId": "a83ebbb4-643f-4fbb-c0a5-4ad973ae04a0"
      },
      "execution_count": null,
      "outputs": [
        {
          "output_type": "stream",
          "name": "stdout",
          "text": [
            "Unseen Subject 1 Accuracy: 0.9052\n",
            "Unseen Subject 9 Accuracy: 0.8573\n",
            "==============================\n",
            "Average Accuracy of Unseen Subjects: 0.8813\n",
            "Total Average Accuracy Across All Subjects: 0.9554\n"
          ]
        }
      ]
    },
    {
      "cell_type": "code",
      "source": [
        "# ALPHA = 0.85, DATASET = LOTSOFWORDS (1000 most common)\n",
        "wordset = \"lotsofwords\"\n",
        "alpha = 0.85\n",
        "\n",
        "# Call the evaluation function\n",
        "average_accuracy = evaluate_wordset_accuracy(\n",
        "    subject_words_dir=subject_words_dir,\n",
        "    wordset=wordset,\n",
        "    eegnet_model=eegnet_model,\n",
        "    charrnn_model=charrnn_model,\n",
        "    char2idx=char2idx,\n",
        "    alpha=alpha,\n",
        "    device=device\n",
        ")"
      ],
      "metadata": {
        "colab": {
          "base_uri": "https://localhost:8080/"
        },
        "id": "Lt-ekW4PFHy4",
        "outputId": "4351f23b-60f2-4e8b-bfba-214dd2ee7106"
      },
      "execution_count": null,
      "outputs": [
        {
          "output_type": "stream",
          "name": "stdout",
          "text": [
            "Unseen Subject 1 Accuracy: 0.9107\n",
            "Unseen Subject 9 Accuracy: 0.8610\n",
            "==============================\n",
            "Average Accuracy of Unseen Subjects: 0.8859\n",
            "Total Average Accuracy Across All Subjects: 0.9571\n"
          ]
        }
      ]
    },
    {
      "cell_type": "code",
      "source": [
        "# ALPHA = 0.825, DATASET = LOTSOFWORDS (1000 most common)\n",
        "wordset = \"lotsofwords\"\n",
        "alpha = 0.825\n",
        "\n",
        "# Call the evaluation function\n",
        "average_accuracy = evaluate_wordset_accuracy(\n",
        "    subject_words_dir=subject_words_dir,\n",
        "    wordset=wordset,\n",
        "    eegnet_model=eegnet_model,\n",
        "    charrnn_model=charrnn_model,\n",
        "    char2idx=char2idx,\n",
        "    alpha=alpha,\n",
        "    device=device\n",
        ")"
      ],
      "metadata": {
        "colab": {
          "base_uri": "https://localhost:8080/"
        },
        "id": "Zhl1qRsmM-lc",
        "outputId": "f6f0a3be-4682-4ecf-8b66-99ccbda74e20"
      },
      "execution_count": null,
      "outputs": [
        {
          "output_type": "stream",
          "name": "stdout",
          "text": [
            "Unseen Subject 1 Accuracy: 0.9123\n",
            "Unseen Subject 9 Accuracy: 0.8617\n",
            "==============================\n",
            "Average Accuracy of Unseen Subjects: 0.8870\n",
            "Total Average Accuracy Across All Subjects: 0.9574\n"
          ]
        }
      ]
    },
    {
      "cell_type": "code",
      "source": [
        "# ALPHA = 0.8, DATASET = LOTSOFWORDS (1000 most common)\n",
        "wordset = \"lotsofwords\"\n",
        "alpha = 0.8\n",
        "\n",
        "# Call the evaluation function\n",
        "average_accuracy = evaluate_wordset_accuracy(\n",
        "    subject_words_dir=subject_words_dir,\n",
        "    wordset=wordset,\n",
        "    eegnet_model=eegnet_model,\n",
        "    charrnn_model=charrnn_model,\n",
        "    char2idx=char2idx,\n",
        "    alpha=alpha,\n",
        "    device=device\n",
        ")"
      ],
      "metadata": {
        "colab": {
          "base_uri": "https://localhost:8080/"
        },
        "id": "KSmCM5Sp0pTN",
        "outputId": "8ebbd621-62dc-4e25-928d-f46d1d7898eb"
      },
      "execution_count": null,
      "outputs": [
        {
          "output_type": "stream",
          "name": "stdout",
          "text": [
            "Unseen Subject 1 Accuracy: 0.9124\n",
            "Unseen Subject 9 Accuracy: 0.8643\n",
            "==============================\n",
            "Average Accuracy of Unseen Subjects: 0.8883\n",
            "Total Average Accuracy Across All Subjects: 0.9579\n"
          ]
        }
      ]
    },
    {
      "cell_type": "code",
      "source": [
        "# ALPHA = 0.775, DATASET = LOTSOFWORDS (1000 most common)\n",
        "wordset = \"lotsofwords\"\n",
        "alpha = 0.775\n",
        "\n",
        "# Call the evaluation function\n",
        "average_accuracy = evaluate_wordset_accuracy(\n",
        "    subject_words_dir=subject_words_dir,\n",
        "    wordset=wordset,\n",
        "    eegnet_model=eegnet_model,\n",
        "    charrnn_model=charrnn_model,\n",
        "    char2idx=char2idx,\n",
        "    alpha=alpha,\n",
        "    device=device\n",
        ")"
      ],
      "metadata": {
        "colab": {
          "base_uri": "https://localhost:8080/"
        },
        "id": "09n8UdIvx0Pu",
        "outputId": "78bb0ae0-9b47-4b07-fabd-3a8bd26eec41"
      },
      "execution_count": null,
      "outputs": [
        {
          "output_type": "stream",
          "name": "stdout",
          "text": [
            "Unseen Subject 1 Accuracy: 0.9175\n",
            "Unseen Subject 9 Accuracy: 0.8675\n",
            "==============================\n",
            "Average Accuracy of Unseen Subjects: 0.8925\n",
            "Total Average Accuracy Across All Subjects: 0.9583\n"
          ]
        }
      ]
    },
    {
      "cell_type": "code",
      "source": [
        "# ALPHA = 0.75, DATASET = LOTSOFWORDS (1000 most common)\n",
        "wordset = \"lotsofwords\"\n",
        "alpha = 0.75\n",
        "\n",
        "# Call the evaluation function\n",
        "average_accuracy = evaluate_wordset_accuracy(\n",
        "    subject_words_dir=subject_words_dir,\n",
        "    wordset=wordset,\n",
        "    eegnet_model=eegnet_model,\n",
        "    charrnn_model=charrnn_model,\n",
        "    char2idx=char2idx,\n",
        "    alpha=alpha,\n",
        "    device=device\n",
        ")"
      ],
      "metadata": {
        "colab": {
          "base_uri": "https://localhost:8080/"
        },
        "id": "E2yKRQ8ZFJCb",
        "outputId": "b8f8e36e-5e90-42bc-cd2d-20da8a95fe1e"
      },
      "execution_count": null,
      "outputs": [
        {
          "output_type": "stream",
          "name": "stdout",
          "text": [
            "Unseen Subject 1 Accuracy: 0.9179\n",
            "Unseen Subject 9 Accuracy: 0.8674\n",
            "==============================\n",
            "Average Accuracy of Unseen Subjects: 0.8927\n",
            "Total Average Accuracy Across All Subjects: 0.9581\n"
          ]
        }
      ]
    },
    {
      "cell_type": "code",
      "source": [
        "# ALPHA = 0.725, DATASET = LOTSOFWORDS (1000 most common)\n",
        "wordset = \"lotsofwords\"\n",
        "alpha = 0.725\n",
        "\n",
        "# Call the evaluation function\n",
        "average_accuracy = evaluate_wordset_accuracy(\n",
        "    subject_words_dir=subject_words_dir,\n",
        "    wordset=wordset,\n",
        "    eegnet_model=eegnet_model,\n",
        "    charrnn_model=charrnn_model,\n",
        "    char2idx=char2idx,\n",
        "    alpha=alpha,\n",
        "    device=device\n",
        ")"
      ],
      "metadata": {
        "colab": {
          "base_uri": "https://localhost:8080/"
        },
        "id": "QJr5Vw0Qx2FM",
        "outputId": "9d67aa2e-aa03-4c25-e187-49562000b573"
      },
      "execution_count": null,
      "outputs": [
        {
          "output_type": "stream",
          "name": "stdout",
          "text": [
            "Unseen Subject 1 Accuracy: 0.9185\n",
            "Unseen Subject 9 Accuracy: 0.8674\n",
            "==============================\n",
            "Average Accuracy of Unseen Subjects: 0.8930\n",
            "Total Average Accuracy Across All Subjects: 0.9577\n"
          ]
        }
      ]
    },
    {
      "cell_type": "code",
      "source": [
        "# ALPHA = 0.7, DATASET = LOTSOFWORDS (1000 most common)\n",
        "wordset = \"lotsofwords\"\n",
        "alpha = 0.7\n",
        "\n",
        "# Call the evaluation function\n",
        "average_accuracy = evaluate_wordset_accuracy(\n",
        "    subject_words_dir=subject_words_dir,\n",
        "    wordset=wordset,\n",
        "    eegnet_model=eegnet_model,\n",
        "    charrnn_model=charrnn_model,\n",
        "    char2idx=char2idx,\n",
        "    alpha=alpha,\n",
        "    device=device\n",
        ")"
      ],
      "metadata": {
        "colab": {
          "base_uri": "https://localhost:8080/"
        },
        "id": "-sLfElW39Q6-",
        "outputId": "49bbc8f5-b779-4ea2-f941-77259b5738a4"
      },
      "execution_count": null,
      "outputs": [
        {
          "output_type": "stream",
          "name": "stdout",
          "text": [
            "Unseen Subject 1 Accuracy: 0.9162\n",
            "Unseen Subject 9 Accuracy: 0.8662\n",
            "==============================\n",
            "Average Accuracy of Unseen Subjects: 0.8912\n",
            "Total Average Accuracy Across All Subjects: 0.9571\n"
          ]
        }
      ]
    },
    {
      "cell_type": "code",
      "source": [
        "# ALPHA = 0.675, DATASET = LOTSOFWORDS (1000 most common)\n",
        "wordset = \"lotsofwords\"\n",
        "alpha = 0.675\n",
        "\n",
        "# Call the evaluation function\n",
        "average_accuracy = evaluate_wordset_accuracy(\n",
        "    subject_words_dir=subject_words_dir,\n",
        "    wordset=wordset,\n",
        "    eegnet_model=eegnet_model,\n",
        "    charrnn_model=charrnn_model,\n",
        "    char2idx=char2idx,\n",
        "    alpha=alpha,\n",
        "    device=device\n",
        ")"
      ],
      "metadata": {
        "colab": {
          "base_uri": "https://localhost:8080/"
        },
        "id": "QYsjgN1LNArT",
        "outputId": "481467e0-b028-45d4-878d-f3d5883ec7f6"
      },
      "execution_count": null,
      "outputs": [
        {
          "output_type": "stream",
          "name": "stdout",
          "text": [
            "Unseen Subject 1 Accuracy: 0.9188\n",
            "Unseen Subject 9 Accuracy: 0.8667\n",
            "==============================\n",
            "Average Accuracy of Unseen Subjects: 0.8927\n",
            "Total Average Accuracy Across All Subjects: 0.9567\n"
          ]
        }
      ]
    },
    {
      "cell_type": "code",
      "source": [
        "# ALPHA = 0.65, DATASET = LOTSOFWORDS (1000 most common)\n",
        "wordset = \"lotsofwords\"\n",
        "alpha = 0.65\n",
        "\n",
        "# Call the evaluation function\n",
        "average_accuracy = evaluate_wordset_accuracy(\n",
        "    subject_words_dir=subject_words_dir,\n",
        "    wordset=wordset,\n",
        "    eegnet_model=eegnet_model,\n",
        "    charrnn_model=charrnn_model,\n",
        "    char2idx=char2idx,\n",
        "    alpha=alpha,\n",
        "    device=device\n",
        ")"
      ],
      "metadata": {
        "colab": {
          "base_uri": "https://localhost:8080/"
        },
        "id": "8bBktqSaCdqx",
        "outputId": "a771b052-4cff-4403-d714-c0b1112b2508"
      },
      "execution_count": null,
      "outputs": [
        {
          "output_type": "stream",
          "name": "stdout",
          "text": [
            "Unseen Subject 1 Accuracy: 0.9188\n",
            "Unseen Subject 9 Accuracy: 0.8655\n",
            "==============================\n",
            "Average Accuracy of Unseen Subjects: 0.8922\n",
            "Total Average Accuracy Across All Subjects: 0.9558\n"
          ]
        }
      ]
    },
    {
      "cell_type": "code",
      "source": [
        "# ALPHA = 0.6, DATASET = LOTSOFWORDS (1000 most common)\n",
        "wordset = \"lotsofwords\"\n",
        "alpha = 0.6\n",
        "\n",
        "# Call the evaluation function\n",
        "average_accuracy = evaluate_wordset_accuracy(\n",
        "    subject_words_dir=subject_words_dir,\n",
        "    wordset=wordset,\n",
        "    eegnet_model=eegnet_model,\n",
        "    charrnn_model=charrnn_model,\n",
        "    char2idx=char2idx,\n",
        "    alpha=alpha,\n",
        "    device=device\n",
        ")"
      ],
      "metadata": {
        "colab": {
          "base_uri": "https://localhost:8080/"
        },
        "id": "3QTn3Eg9xuBU",
        "outputId": "7b409f6c-46e0-42da-eedf-ad205b51db6d"
      },
      "execution_count": null,
      "outputs": [
        {
          "output_type": "stream",
          "name": "stdout",
          "text": [
            "Unseen Subject 1 Accuracy: 0.9135\n",
            "Unseen Subject 9 Accuracy: 0.8570\n",
            "==============================\n",
            "Average Accuracy of Unseen Subjects: 0.8852\n",
            "Total Average Accuracy Across All Subjects: 0.9526\n"
          ]
        }
      ]
    },
    {
      "cell_type": "code",
      "source": [
        "# ALPHA = 0.5, DATASET = LOTSOFWORDS (1000 most common)\n",
        "wordset = \"lotsofwords\"\n",
        "alpha = 0.5\n",
        "\n",
        "# Call the evaluation function\n",
        "average_accuracy = evaluate_wordset_accuracy(\n",
        "    subject_words_dir=subject_words_dir,\n",
        "    wordset=wordset,\n",
        "    eegnet_model=eegnet_model,\n",
        "    charrnn_model=charrnn_model,\n",
        "    char2idx=char2idx,\n",
        "    alpha=alpha,\n",
        "    device=device\n",
        ")"
      ],
      "metadata": {
        "colab": {
          "base_uri": "https://localhost:8080/"
        },
        "id": "vF5toS1CxvZK",
        "outputId": "09742080-6fa7-4163-9fdb-43f6fed4fb46"
      },
      "execution_count": null,
      "outputs": [
        {
          "output_type": "stream",
          "name": "stdout",
          "text": [
            "Unseen Subject 1 Accuracy: 0.8898\n",
            "Unseen Subject 9 Accuracy: 0.8289\n",
            "==============================\n",
            "Average Accuracy of Unseen Subjects: 0.8593\n",
            "Total Average Accuracy Across All Subjects: 0.9381\n"
          ]
        }
      ]
    },
    {
      "cell_type": "markdown",
      "source": [
        "# Plotting"
      ],
      "metadata": {
        "id": "ByfVXniz90ec"
      }
    },
    {
      "cell_type": "code",
      "source": [
        "import matplotlib.pyplot as plt\n",
        "\n",
        "alpha =      [1, 0.95, 0.9, 0.85, 0.825, 0.8, 0.775, 0.75, 0.725, 0.7, 0.675, 0.65, 0.6, 0.5]\n",
        "\n",
        "# Accuracy for Unseen Subjects\n",
        "top100common_unseen =       [0.8596, 0.8604, 0.8672, 0.8637, 0.8674, 0.867, 0.8658, 0.8658, 0.8653, 0.864, 0.8675, 0.8682, 0.8681, 0.85]\n",
        "top100long_unseen =         [0.8676, 0.8727, 0.8764, 0.8829, 0.8834, 0.8906, 0.8957, 0.8957, 0.8966, 0.8934, 0.8954, 0.8922, 0.8852, 0.8593]\n",
        "topthousandcommon_unseen =  [0.8748, 0.8788, 0.8813, 0.8859, 0.887, 0.8883, 0.8925, 0.8927, 0.893, 0.8912, 0.8927, 0.8922, 0.8852, 0.8593]\n",
        "\n",
        "# Accuracy for All Subjects\n",
        "top100common_all =          [0.9461, 0.9493, 0.9511, 0.9514, 0.9521, 0.952, 0.9513, 0.9517, 0.9513, 0.9514, 0.951, 0.9486, 0.9508, 0.8204]\n",
        "top100long_all =            [0.9507, 0.9561, 0.9587, 0.9606, 0.9612, 0.9623, 0.9626, 0.9626, 0.9626, 0.9624, 0.9618, 0.9558, 0.9526, 0.9381]\n",
        "topthousandcommon_all =     [0.9497, 0.9532, 0.9554, 0.9571, 0.9574, 0.9579, 0.9583, 0.9581, 0.9577, 0.9571, 0.9567, 0.9558, 0.9526, 0.9381]\n"
      ],
      "metadata": {
        "id": "poD5gzUg91yg"
      },
      "execution_count": null,
      "outputs": []
    },
    {
      "cell_type": "code",
      "source": [
        "# Graph 1: Accuracy for Unseen Subjects\n",
        "plt.figure(figsize=(10, 5))\n",
        "plt.plot(alpha, top100common_unseen, marker='o', label=\"Top 100 Common\")\n",
        "plt.plot(alpha, top100long_unseen, marker='o', label=\"Top 100 Long\")\n",
        "plt.plot(alpha, topthousandcommon_unseen, marker='o', label=\"Top 1000 Common\")\n",
        "plt.xlabel(\"Alpha\")\n",
        "plt.ylabel(\"Cls. Acc. (Per Character)\")\n",
        "plt.title(\"Classification Accuracy for Unseen Subjects (1 and 9)\")\n",
        "plt.ylim(0.85, 0.9)\n",
        "plt.legend()\n",
        "plt.grid(True)\n",
        "plt.show()"
      ],
      "metadata": {
        "colab": {
          "base_uri": "https://localhost:8080/",
          "height": 487
        },
        "id": "C-_nO4gb_iSj",
        "outputId": "95df8c40-1fa1-45e1-e31b-51e2d9a1f78b"
      },
      "execution_count": null,
      "outputs": [
        {
          "output_type": "display_data",
          "data": {
            "text/plain": [
              "<Figure size 1000x500 with 1 Axes>"
            ],
            "image/png": "[encoded data removed]"
          },
          "metadata": {}
        }
      ]
    },
    {
      "cell_type": "code",
      "source": [
        "# Graph 2: Accuracy for All Subjects\n",
        "plt.figure(figsize=(10, 5))\n",
        "plt.plot(alpha, top100common_all, marker='o', label=\"Top 100 Common\")\n",
        "plt.plot(alpha, top100long_all, marker='o', label=\"Top 100 Long\")\n",
        "plt.plot(alpha, topthousandcommon_all, marker='o', label=\"Top 1000 Common\")\n",
        "plt.xlabel(\"Alpha\")\n",
        "plt.ylabel(\"Cls. Acc. (Per Character)\")\n",
        "plt.title(\"Classification Accuracy for All Subjects\")\n",
        "plt.ylim(0.92, 0.97)\n",
        "plt.legend()\n",
        "plt.grid(True)\n",
        "plt.show()\n"
      ],
      "metadata": {
        "colab": {
          "base_uri": "https://localhost:8080/",
          "height": 487
        },
        "id": "PfyUfr4K_hPc",
        "outputId": "6203aed2-977e-4c3f-a665-8c17c9655923"
      },
      "execution_count": null,
      "outputs": [
        {
          "output_type": "display_data",
          "data": {
            "text/plain": [
              "<Figure size 1000x500 with 1 Axes>"
            ],
            "image/png": "[encoded data removed]"
          },
          "metadata": {}
        }
      ]
    }
  ]
}